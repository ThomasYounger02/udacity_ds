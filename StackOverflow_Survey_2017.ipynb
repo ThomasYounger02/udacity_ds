{
 "cells": [
  {
   "cell_type": "markdown",
   "metadata": {
    "id": "1573503f-e162-45d0-976b-35b642a9aa3f"
   },
   "source": [
    "# Business Understanding"
   ]
  },
  {
   "cell_type": "markdown",
   "metadata": {
    "id": "9bdc18a1-ccd9-4624-876d-af189b45837d"
   },
   "source": [
    "How do you want to be a good programmer? As a rookie, what tools do you think good programmers use? Whether your career is related to them. In particular, if you choose to enter the industry, how much do you expect to be paid? This can be an important bargaining chip for you and HR."
   ]
  },
  {
   "cell_type": "markdown",
   "metadata": {
    "id": "afdcfa61-72ed-4b38-abc8-f6ce808aa52e"
   },
   "source": [
    "# Data understanding"
   ]
  },
  {
   "cell_type": "code",
   "execution_count": 1,
   "metadata": {
    "id": "5de9c7cf-6bf2-43c2-bec6-ade5e73a6027"
   },
   "outputs": [],
   "source": [
    "import numpy as np\n",
    "import pandas as pd\n",
    "import datetime as dt\n",
    "\n",
    "#make plots\n",
    "import matplotlib.pyplot as plt\n",
    "import seaborn as sns\n",
    "%matplotlib inline\n",
    "\n",
    "#save models\n",
    "import joblib\n",
    "\n",
    "import warnings\n",
    "warnings.filterwarnings('ignore')"
   ]
  },
  {
   "cell_type": "code",
   "execution_count": 2,
   "metadata": {
    "id": "3e1515bc-a471-4ad9-96de-d510c2091e78"
   },
   "outputs": [
    {
     "data": {
      "text/html": [
       "<div>\n",
       "<style scoped>\n",
       "    .dataframe tbody tr th:only-of-type {\n",
       "        vertical-align: middle;\n",
       "    }\n",
       "\n",
       "    .dataframe tbody tr th {\n",
       "        vertical-align: top;\n",
       "    }\n",
       "\n",
       "    .dataframe thead th {\n",
       "        text-align: right;\n",
       "    }\n",
       "</style>\n",
       "<table border=\"1\" class=\"dataframe\">\n",
       "  <thead>\n",
       "    <tr style=\"text-align: right;\">\n",
       "      <th></th>\n",
       "      <th>Respondent</th>\n",
       "      <th>Professional</th>\n",
       "      <th>ProgramHobby</th>\n",
       "      <th>Country</th>\n",
       "      <th>University</th>\n",
       "      <th>EmploymentStatus</th>\n",
       "      <th>FormalEducation</th>\n",
       "      <th>MajorUndergrad</th>\n",
       "      <th>HomeRemote</th>\n",
       "      <th>CompanySize</th>\n",
       "      <th>...</th>\n",
       "      <th>StackOverflowMakeMoney</th>\n",
       "      <th>Gender</th>\n",
       "      <th>HighestEducationParents</th>\n",
       "      <th>Race</th>\n",
       "      <th>SurveyLong</th>\n",
       "      <th>QuestionsInteresting</th>\n",
       "      <th>QuestionsConfusing</th>\n",
       "      <th>InterestedAnswers</th>\n",
       "      <th>Salary</th>\n",
       "      <th>ExpectedSalary</th>\n",
       "    </tr>\n",
       "  </thead>\n",
       "  <tbody>\n",
       "    <tr>\n",
       "      <th>0</th>\n",
       "      <td>1</td>\n",
       "      <td>Student</td>\n",
       "      <td>Yes, both</td>\n",
       "      <td>United States</td>\n",
       "      <td>No</td>\n",
       "      <td>Not employed, and not looking for work</td>\n",
       "      <td>Secondary school</td>\n",
       "      <td>NaN</td>\n",
       "      <td>NaN</td>\n",
       "      <td>NaN</td>\n",
       "      <td>...</td>\n",
       "      <td>Strongly disagree</td>\n",
       "      <td>Male</td>\n",
       "      <td>High school</td>\n",
       "      <td>White or of European descent</td>\n",
       "      <td>Strongly disagree</td>\n",
       "      <td>Strongly agree</td>\n",
       "      <td>Disagree</td>\n",
       "      <td>Strongly agree</td>\n",
       "      <td>NaN</td>\n",
       "      <td>NaN</td>\n",
       "    </tr>\n",
       "    <tr>\n",
       "      <th>1</th>\n",
       "      <td>2</td>\n",
       "      <td>Student</td>\n",
       "      <td>Yes, both</td>\n",
       "      <td>United Kingdom</td>\n",
       "      <td>Yes, full-time</td>\n",
       "      <td>Employed part-time</td>\n",
       "      <td>Some college/university study without earning ...</td>\n",
       "      <td>Computer science or software engineering</td>\n",
       "      <td>More than half, but not all, the time</td>\n",
       "      <td>20 to 99 employees</td>\n",
       "      <td>...</td>\n",
       "      <td>Strongly disagree</td>\n",
       "      <td>Male</td>\n",
       "      <td>A master's degree</td>\n",
       "      <td>White or of European descent</td>\n",
       "      <td>Somewhat agree</td>\n",
       "      <td>Somewhat agree</td>\n",
       "      <td>Disagree</td>\n",
       "      <td>Strongly agree</td>\n",
       "      <td>NaN</td>\n",
       "      <td>37500.0</td>\n",
       "    </tr>\n",
       "    <tr>\n",
       "      <th>2</th>\n",
       "      <td>3</td>\n",
       "      <td>Professional developer</td>\n",
       "      <td>Yes, both</td>\n",
       "      <td>United Kingdom</td>\n",
       "      <td>No</td>\n",
       "      <td>Employed full-time</td>\n",
       "      <td>Bachelor's degree</td>\n",
       "      <td>Computer science or software engineering</td>\n",
       "      <td>Less than half the time, but at least one day ...</td>\n",
       "      <td>10,000 or more employees</td>\n",
       "      <td>...</td>\n",
       "      <td>Disagree</td>\n",
       "      <td>Male</td>\n",
       "      <td>A professional degree</td>\n",
       "      <td>White or of European descent</td>\n",
       "      <td>Somewhat agree</td>\n",
       "      <td>Agree</td>\n",
       "      <td>Disagree</td>\n",
       "      <td>Agree</td>\n",
       "      <td>113750.0</td>\n",
       "      <td>NaN</td>\n",
       "    </tr>\n",
       "    <tr>\n",
       "      <th>3</th>\n",
       "      <td>4</td>\n",
       "      <td>Professional non-developer who sometimes write...</td>\n",
       "      <td>Yes, both</td>\n",
       "      <td>United States</td>\n",
       "      <td>No</td>\n",
       "      <td>Employed full-time</td>\n",
       "      <td>Doctoral degree</td>\n",
       "      <td>A non-computer-focused engineering discipline</td>\n",
       "      <td>Less than half the time, but at least one day ...</td>\n",
       "      <td>10,000 or more employees</td>\n",
       "      <td>...</td>\n",
       "      <td>Disagree</td>\n",
       "      <td>Male</td>\n",
       "      <td>A doctoral degree</td>\n",
       "      <td>White or of European descent</td>\n",
       "      <td>Agree</td>\n",
       "      <td>Agree</td>\n",
       "      <td>Somewhat agree</td>\n",
       "      <td>Strongly agree</td>\n",
       "      <td>NaN</td>\n",
       "      <td>NaN</td>\n",
       "    </tr>\n",
       "    <tr>\n",
       "      <th>4</th>\n",
       "      <td>5</td>\n",
       "      <td>Professional developer</td>\n",
       "      <td>Yes, I program as a hobby</td>\n",
       "      <td>Switzerland</td>\n",
       "      <td>No</td>\n",
       "      <td>Employed full-time</td>\n",
       "      <td>Master's degree</td>\n",
       "      <td>Computer science or software engineering</td>\n",
       "      <td>Never</td>\n",
       "      <td>10 to 19 employees</td>\n",
       "      <td>...</td>\n",
       "      <td>NaN</td>\n",
       "      <td>NaN</td>\n",
       "      <td>NaN</td>\n",
       "      <td>NaN</td>\n",
       "      <td>NaN</td>\n",
       "      <td>NaN</td>\n",
       "      <td>NaN</td>\n",
       "      <td>NaN</td>\n",
       "      <td>NaN</td>\n",
       "      <td>NaN</td>\n",
       "    </tr>\n",
       "  </tbody>\n",
       "</table>\n",
       "<p>5 rows × 154 columns</p>\n",
       "</div>"
      ],
      "text/plain": [
       "   Respondent                                       Professional  \\\n",
       "0           1                                            Student   \n",
       "1           2                                            Student   \n",
       "2           3                             Professional developer   \n",
       "3           4  Professional non-developer who sometimes write...   \n",
       "4           5                             Professional developer   \n",
       "\n",
       "                ProgramHobby         Country      University  \\\n",
       "0                  Yes, both   United States              No   \n",
       "1                  Yes, both  United Kingdom  Yes, full-time   \n",
       "2                  Yes, both  United Kingdom              No   \n",
       "3                  Yes, both   United States              No   \n",
       "4  Yes, I program as a hobby     Switzerland              No   \n",
       "\n",
       "                         EmploymentStatus  \\\n",
       "0  Not employed, and not looking for work   \n",
       "1                      Employed part-time   \n",
       "2                      Employed full-time   \n",
       "3                      Employed full-time   \n",
       "4                      Employed full-time   \n",
       "\n",
       "                                     FormalEducation  \\\n",
       "0                                   Secondary school   \n",
       "1  Some college/university study without earning ...   \n",
       "2                                  Bachelor's degree   \n",
       "3                                    Doctoral degree   \n",
       "4                                    Master's degree   \n",
       "\n",
       "                                  MajorUndergrad  \\\n",
       "0                                            NaN   \n",
       "1       Computer science or software engineering   \n",
       "2       Computer science or software engineering   \n",
       "3  A non-computer-focused engineering discipline   \n",
       "4       Computer science or software engineering   \n",
       "\n",
       "                                          HomeRemote  \\\n",
       "0                                                NaN   \n",
       "1              More than half, but not all, the time   \n",
       "2  Less than half the time, but at least one day ...   \n",
       "3  Less than half the time, but at least one day ...   \n",
       "4                                              Never   \n",
       "\n",
       "                CompanySize  ... StackOverflowMakeMoney Gender  \\\n",
       "0                       NaN  ...      Strongly disagree   Male   \n",
       "1        20 to 99 employees  ...      Strongly disagree   Male   \n",
       "2  10,000 or more employees  ...               Disagree   Male   \n",
       "3  10,000 or more employees  ...               Disagree   Male   \n",
       "4        10 to 19 employees  ...                    NaN    NaN   \n",
       "\n",
       "  HighestEducationParents                          Race         SurveyLong  \\\n",
       "0             High school  White or of European descent  Strongly disagree   \n",
       "1       A master's degree  White or of European descent     Somewhat agree   \n",
       "2   A professional degree  White or of European descent     Somewhat agree   \n",
       "3       A doctoral degree  White or of European descent              Agree   \n",
       "4                     NaN                           NaN                NaN   \n",
       "\n",
       "  QuestionsInteresting QuestionsConfusing InterestedAnswers    Salary  \\\n",
       "0       Strongly agree           Disagree    Strongly agree       NaN   \n",
       "1       Somewhat agree           Disagree    Strongly agree       NaN   \n",
       "2                Agree           Disagree             Agree  113750.0   \n",
       "3                Agree     Somewhat agree    Strongly agree       NaN   \n",
       "4                  NaN                NaN               NaN       NaN   \n",
       "\n",
       "   ExpectedSalary  \n",
       "0             NaN  \n",
       "1         37500.0  \n",
       "2             NaN  \n",
       "3             NaN  \n",
       "4             NaN  \n",
       "\n",
       "[5 rows x 154 columns]"
      ]
     },
     "execution_count": 2,
     "metadata": {},
     "output_type": "execute_result"
    }
   ],
   "source": [
    "data = pd.read_csv('survey_results_public.csv')\n",
    "data.head()"
   ]
  },
  {
   "cell_type": "code",
   "execution_count": 3,
   "metadata": {
    "id": "833becc8-4f64-45e3-a4a8-e3c0bf280919"
   },
   "outputs": [
    {
     "data": {
      "text/html": [
       "<div>\n",
       "<style scoped>\n",
       "    .dataframe tbody tr th:only-of-type {\n",
       "        vertical-align: middle;\n",
       "    }\n",
       "\n",
       "    .dataframe tbody tr th {\n",
       "        vertical-align: top;\n",
       "    }\n",
       "\n",
       "    .dataframe thead th {\n",
       "        text-align: right;\n",
       "    }\n",
       "</style>\n",
       "<table border=\"1\" class=\"dataframe\">\n",
       "  <thead>\n",
       "    <tr style=\"text-align: right;\">\n",
       "      <th></th>\n",
       "      <th>Column</th>\n",
       "      <th>Question</th>\n",
       "    </tr>\n",
       "  </thead>\n",
       "  <tbody>\n",
       "    <tr>\n",
       "      <th>0</th>\n",
       "      <td>Respondent</td>\n",
       "      <td>Respondent ID number</td>\n",
       "    </tr>\n",
       "    <tr>\n",
       "      <th>1</th>\n",
       "      <td>Professional</td>\n",
       "      <td>Which of the following best describes you?</td>\n",
       "    </tr>\n",
       "    <tr>\n",
       "      <th>2</th>\n",
       "      <td>ProgramHobby</td>\n",
       "      <td>Do you program as a hobby or contribute to ope...</td>\n",
       "    </tr>\n",
       "    <tr>\n",
       "      <th>3</th>\n",
       "      <td>Country</td>\n",
       "      <td>In which country do you currently live?</td>\n",
       "    </tr>\n",
       "    <tr>\n",
       "      <th>4</th>\n",
       "      <td>University</td>\n",
       "      <td>Are you currently enrolled in a formal, degree...</td>\n",
       "    </tr>\n",
       "  </tbody>\n",
       "</table>\n",
       "</div>"
      ],
      "text/plain": [
       "         Column                                           Question\n",
       "0    Respondent                               Respondent ID number\n",
       "1  Professional         Which of the following best describes you?\n",
       "2  ProgramHobby  Do you program as a hobby or contribute to ope...\n",
       "3       Country            In which country do you currently live?\n",
       "4    University  Are you currently enrolled in a formal, degree..."
      ]
     },
     "execution_count": 3,
     "metadata": {},
     "output_type": "execute_result"
    }
   ],
   "source": [
    "schema = pd.read_csv('survey_results_schema.csv')\n",
    "schema.head()"
   ]
  },
  {
   "cell_type": "code",
   "execution_count": 4,
   "metadata": {
    "id": "7693d945-352c-4def-aff6-e90ef39d842f"
   },
   "outputs": [],
   "source": [
    "#keep the full-time developers' data\n",
    "data = data[data['EmploymentStatus']=='Employed full-time']"
   ]
  },
  {
   "cell_type": "code",
   "execution_count": 5,
   "metadata": {
    "id": "c4392e28-4117-4a51-be4c-1c96b0a64613"
   },
   "outputs": [],
   "source": [
    "#keep the data which has positive salary\n",
    "data = data[data['Salary']>0]"
   ]
  },
  {
   "cell_type": "code",
   "execution_count": 6,
   "metadata": {
    "id": "8ced0824-3ad5-4e3e-91c8-a4e8880e4139"
   },
   "outputs": [
    {
     "data": {
      "text/html": [
       "<div>\n",
       "<style scoped>\n",
       "    .dataframe tbody tr th:only-of-type {\n",
       "        vertical-align: middle;\n",
       "    }\n",
       "\n",
       "    .dataframe tbody tr th {\n",
       "        vertical-align: top;\n",
       "    }\n",
       "\n",
       "    .dataframe thead th {\n",
       "        text-align: right;\n",
       "    }\n",
       "</style>\n",
       "<table border=\"1\" class=\"dataframe\">\n",
       "  <thead>\n",
       "    <tr style=\"text-align: right;\">\n",
       "      <th></th>\n",
       "      <th>Respondent</th>\n",
       "      <th>CareerSatisfaction</th>\n",
       "      <th>JobSatisfaction</th>\n",
       "      <th>HoursPerWeek</th>\n",
       "      <th>StackOverflowSatisfaction</th>\n",
       "      <th>Salary</th>\n",
       "      <th>ExpectedSalary</th>\n",
       "    </tr>\n",
       "  </thead>\n",
       "  <tbody>\n",
       "    <tr>\n",
       "      <th>count</th>\n",
       "      <td>12438.000000</td>\n",
       "      <td>12409.000000</td>\n",
       "      <td>12400.000000</td>\n",
       "      <td>5472.000000</td>\n",
       "      <td>11590.000000</td>\n",
       "      <td>12438.000000</td>\n",
       "      <td>0.0</td>\n",
       "    </tr>\n",
       "    <tr>\n",
       "      <th>mean</th>\n",
       "      <td>26098.866297</td>\n",
       "      <td>7.493674</td>\n",
       "      <td>6.960081</td>\n",
       "      <td>2.641082</td>\n",
       "      <td>8.512252</td>\n",
       "      <td>57381.580844</td>\n",
       "      <td>NaN</td>\n",
       "    </tr>\n",
       "    <tr>\n",
       "      <th>std</th>\n",
       "      <td>15786.528346</td>\n",
       "      <td>1.736553</td>\n",
       "      <td>2.129550</td>\n",
       "      <td>5.455677</td>\n",
       "      <td>1.324734</td>\n",
       "      <td>39871.944002</td>\n",
       "      <td>NaN</td>\n",
       "    </tr>\n",
       "    <tr>\n",
       "      <th>min</th>\n",
       "      <td>3.000000</td>\n",
       "      <td>0.000000</td>\n",
       "      <td>0.000000</td>\n",
       "      <td>0.000000</td>\n",
       "      <td>0.000000</td>\n",
       "      <td>0.014682</td>\n",
       "      <td>NaN</td>\n",
       "    </tr>\n",
       "    <tr>\n",
       "      <th>25%</th>\n",
       "      <td>12095.500000</td>\n",
       "      <td>7.000000</td>\n",
       "      <td>6.000000</td>\n",
       "      <td>0.000000</td>\n",
       "      <td>8.000000</td>\n",
       "      <td>27956.989247</td>\n",
       "      <td>NaN</td>\n",
       "    </tr>\n",
       "    <tr>\n",
       "      <th>50%</th>\n",
       "      <td>26038.000000</td>\n",
       "      <td>8.000000</td>\n",
       "      <td>7.000000</td>\n",
       "      <td>1.000000</td>\n",
       "      <td>9.000000</td>\n",
       "      <td>51297.025641</td>\n",
       "      <td>NaN</td>\n",
       "    </tr>\n",
       "    <tr>\n",
       "      <th>75%</th>\n",
       "      <td>41320.750000</td>\n",
       "      <td>9.000000</td>\n",
       "      <td>8.000000</td>\n",
       "      <td>2.000000</td>\n",
       "      <td>10.000000</td>\n",
       "      <td>80608.870968</td>\n",
       "      <td>NaN</td>\n",
       "    </tr>\n",
       "    <tr>\n",
       "      <th>max</th>\n",
       "      <td>51391.000000</td>\n",
       "      <td>10.000000</td>\n",
       "      <td>10.000000</td>\n",
       "      <td>40.000000</td>\n",
       "      <td>10.000000</td>\n",
       "      <td>197000.000000</td>\n",
       "      <td>NaN</td>\n",
       "    </tr>\n",
       "  </tbody>\n",
       "</table>\n",
       "</div>"
      ],
      "text/plain": [
       "         Respondent  CareerSatisfaction  JobSatisfaction  HoursPerWeek  \\\n",
       "count  12438.000000        12409.000000     12400.000000   5472.000000   \n",
       "mean   26098.866297            7.493674         6.960081      2.641082   \n",
       "std    15786.528346            1.736553         2.129550      5.455677   \n",
       "min        3.000000            0.000000         0.000000      0.000000   \n",
       "25%    12095.500000            7.000000         6.000000      0.000000   \n",
       "50%    26038.000000            8.000000         7.000000      1.000000   \n",
       "75%    41320.750000            9.000000         8.000000      2.000000   \n",
       "max    51391.000000           10.000000        10.000000     40.000000   \n",
       "\n",
       "       StackOverflowSatisfaction         Salary  ExpectedSalary  \n",
       "count               11590.000000   12438.000000             0.0  \n",
       "mean                    8.512252   57381.580844             NaN  \n",
       "std                     1.324734   39871.944002             NaN  \n",
       "min                     0.000000       0.014682             NaN  \n",
       "25%                     8.000000   27956.989247             NaN  \n",
       "50%                     9.000000   51297.025641             NaN  \n",
       "75%                    10.000000   80608.870968             NaN  \n",
       "max                    10.000000  197000.000000             NaN  "
      ]
     },
     "execution_count": 6,
     "metadata": {},
     "output_type": "execute_result"
    }
   ],
   "source": [
    "data.describe()"
   ]
  },
  {
   "cell_type": "code",
   "execution_count": 7,
   "metadata": {
    "id": "e4d81363-f4bd-4ba0-afd6-a128d3bb575b"
   },
   "outputs": [
    {
     "data": {
      "image/png": "[encoded data removed]",
      "text/plain": [
       "<Figure size 432x288 with 2 Axes>"
      ]
     },
     "metadata": {
      "needs_background": "light"
     },
     "output_type": "display_data"
    }
   ],
   "source": [
    "#correlation matrix\n",
    "sns.heatmap(data.corr(), annot=True, fmt=\".2f\");"
   ]
  },
  {
   "cell_type": "markdown",
   "metadata": {
    "id": "24d0bb88-71e5-4123-9915-5d22faeee2d3"
   },
   "source": [
    "## Q1:What's the most popular IDE among full-time developers?"
   ]
  },
  {
   "cell_type": "code",
   "execution_count": 8,
   "metadata": {
    "id": "c1776101-ea42-4228-b2e4-a7d0e89507f2"
   },
   "outputs": [],
   "source": [
    "#flat the nested list\n",
    "def flatten(input_list):\n",
    "    \"\"\"\n",
    "    Description: This function can flat a nested list and return a sigle and clean list.\n",
    "\n",
    "    Arguments:\n",
    "        inpurt_list: the nested list. \n",
    "\n",
    "    Returns:\n",
    "        outpurt_list: the flatten list.\n",
    "    \"\"\"\n",
    "    output_list = []\n",
    "    while True:\n",
    "        if input_list == []:\n",
    "            break\n",
    "        for index, i in enumerate(input_list):\n",
    "            if type(i)== list:\n",
    "                input_list = i + input_list[index+1:]\n",
    "                break\n",
    "            else:\n",
    "                output_list.append(i)\n",
    "                input_list.pop(index)\n",
    "                break\n",
    "    return output_list"
   ]
  },
  {
   "cell_type": "code",
   "execution_count": 9,
   "metadata": {
    "id": "69ce3be5-2a80-4907-99fc-741bd9fbcd7a"
   },
   "outputs": [],
   "source": [
    "ide_list = [x for x in data['IDE'].dropna().str.split(';')]\n",
    "ide_list = flatten(ide_list)"
   ]
  },
  {
   "cell_type": "code",
   "execution_count": 10,
   "metadata": {
    "id": "c607367f-660e-4e19-beda-41b0c46eb716"
   },
   "outputs": [],
   "source": [
    "ide_list = [x.strip() for x in ide_list]"
   ]
  },
  {
   "cell_type": "code",
   "execution_count": 11,
   "metadata": {
    "id": "6f78c78a-0ed4-49d5-83d3-a19cdfeba4b2"
   },
   "outputs": [],
   "source": [
    "result_list = []\n",
    "for ide in set(ide_list):\n",
    "    num = ide_list.count(ide)\n",
    "    result_list.append({\n",
    "        'IDE': ide,\n",
    "        'Num': num,\n",
    "        'Percent':num/data['IDE'].dropna().shape[0]\n",
    "    })\n",
    "df_result = pd.DataFrame(result_list, columns=['IDE', 'Num', 'Percent'])\n",
    "#delete nan data\n",
    "df_result.dropna(inplace=True)\n",
    "\n",
    "df_result.set_index('IDE', inplace=True)"
   ]
  },
  {
   "cell_type": "code",
   "execution_count": 12,
   "metadata": {
    "id": "e34402e6-6b94-408c-a0d3-05c0f8fb57e2"
   },
   "outputs": [
    {
     "data": {
      "image/png": "[encoded data removed]",
      "text/plain": [
       "<Figure size 1440x576 with 1 Axes>"
      ]
     },
     "metadata": {
      "needs_background": "light"
     },
     "output_type": "display_data"
    }
   ],
   "source": [
    "#proportion of users with different IDE\n",
    "df_result.sort_values('Percent', inplace=True)\n",
    "\n",
    "df_result['Percent'].plot(kind='barh', figsize=(20,8));"
   ]
  },
  {
   "cell_type": "code",
   "execution_count": 13,
   "metadata": {
    "id": "2388aa5b-e833-42dc-8651-75ac9401abc3"
   },
   "outputs": [
    {
     "data": {
      "image/png": "[encoded data removed]",
      "text/plain": [
       "<Figure size 432x720 with 1 Axes>"
      ]
     },
     "metadata": {
      "needs_background": "light"
     },
     "output_type": "display_data"
    }
   ],
   "source": [
    "#make plot with seaborn, for posting on the MEDIUM\n",
    "f, ax = plt.subplots(figsize=(6, 10))\n",
    "sns.barplot(x=df_result.Percent, y=df_result.index)\n",
    "\n",
    "ax.set(xlim=(0, 1), ylabel=\"\",\n",
    "       xlabel=\"Usage percentage of each IDE\")\n",
    "sns.despine(left=True, bottom=True)"
   ]
  },
  {
   "cell_type": "markdown",
   "metadata": {
    "id": "b00f7e67-b25f-4d8c-8b1e-7801cf747c16"
   },
   "source": [
    "- The most popular IDE is vs, followed by Notepad + +. Vim and sublime text account for the same proportion;"
   ]
  },
  {
   "cell_type": "markdown",
   "metadata": {
    "id": "d407044e-55ea-494a-8378-8b6bc0990400"
   },
   "source": [
    "### Q:What is the most popular IDE for developers with a programming life of 1 year?"
   ]
  },
  {
   "cell_type": "code",
   "execution_count": 14,
   "metadata": {
    "id": "ff5a2bef-44d6-410d-ac10-13406c64de09"
   },
   "outputs": [],
   "source": [
    "#sub dataset\n",
    "df = data[data['YearsProgram']=='Less than a year']"
   ]
  },
  {
   "cell_type": "code",
   "execution_count": 15,
   "metadata": {
    "id": "4092ee67-e5f7-4a5f-b3ae-d5177f30776a"
   },
   "outputs": [
    {
     "data": {
      "text/html": [
       "<div>\n",
       "<style scoped>\n",
       "    .dataframe tbody tr th:only-of-type {\n",
       "        vertical-align: middle;\n",
       "    }\n",
       "\n",
       "    .dataframe tbody tr th {\n",
       "        vertical-align: top;\n",
       "    }\n",
       "\n",
       "    .dataframe thead th {\n",
       "        text-align: right;\n",
       "    }\n",
       "</style>\n",
       "<table border=\"1\" class=\"dataframe\">\n",
       "  <thead>\n",
       "    <tr style=\"text-align: right;\">\n",
       "      <th></th>\n",
       "      <th>Num</th>\n",
       "      <th>Percent</th>\n",
       "    </tr>\n",
       "    <tr>\n",
       "      <th>IDE</th>\n",
       "      <th></th>\n",
       "      <th></th>\n",
       "    </tr>\n",
       "  </thead>\n",
       "  <tbody>\n",
       "    <tr>\n",
       "      <th>Visual Studio</th>\n",
       "      <td>23</td>\n",
       "      <td>0.319444</td>\n",
       "    </tr>\n",
       "    <tr>\n",
       "      <th>Sublime Text</th>\n",
       "      <td>20</td>\n",
       "      <td>0.277778</td>\n",
       "    </tr>\n",
       "    <tr>\n",
       "      <th>Notepad++</th>\n",
       "      <td>19</td>\n",
       "      <td>0.263889</td>\n",
       "    </tr>\n",
       "    <tr>\n",
       "      <th>Android Studio</th>\n",
       "      <td>12</td>\n",
       "      <td>0.166667</td>\n",
       "    </tr>\n",
       "    <tr>\n",
       "      <th>Eclipse</th>\n",
       "      <td>10</td>\n",
       "      <td>0.138889</td>\n",
       "    </tr>\n",
       "    <tr>\n",
       "      <th>Visual Studio Code</th>\n",
       "      <td>10</td>\n",
       "      <td>0.138889</td>\n",
       "    </tr>\n",
       "    <tr>\n",
       "      <th>Vim</th>\n",
       "      <td>8</td>\n",
       "      <td>0.111111</td>\n",
       "    </tr>\n",
       "    <tr>\n",
       "      <th>Xcode</th>\n",
       "      <td>8</td>\n",
       "      <td>0.111111</td>\n",
       "    </tr>\n",
       "    <tr>\n",
       "      <th>Atom</th>\n",
       "      <td>7</td>\n",
       "      <td>0.097222</td>\n",
       "    </tr>\n",
       "    <tr>\n",
       "      <th>PHPStorm</th>\n",
       "      <td>6</td>\n",
       "      <td>0.083333</td>\n",
       "    </tr>\n",
       "    <tr>\n",
       "      <th>NetBeans</th>\n",
       "      <td>4</td>\n",
       "      <td>0.055556</td>\n",
       "    </tr>\n",
       "    <tr>\n",
       "      <th>IntelliJ</th>\n",
       "      <td>4</td>\n",
       "      <td>0.055556</td>\n",
       "    </tr>\n",
       "    <tr>\n",
       "      <th>RubyMine</th>\n",
       "      <td>3</td>\n",
       "      <td>0.041667</td>\n",
       "    </tr>\n",
       "    <tr>\n",
       "      <th>PyCharm</th>\n",
       "      <td>3</td>\n",
       "      <td>0.041667</td>\n",
       "    </tr>\n",
       "    <tr>\n",
       "      <th>RStudio</th>\n",
       "      <td>2</td>\n",
       "      <td>0.027778</td>\n",
       "    </tr>\n",
       "    <tr>\n",
       "      <th>IPython / Jupyter</th>\n",
       "      <td>2</td>\n",
       "      <td>0.027778</td>\n",
       "    </tr>\n",
       "    <tr>\n",
       "      <th>Emacs</th>\n",
       "      <td>1</td>\n",
       "      <td>0.013889</td>\n",
       "    </tr>\n",
       "    <tr>\n",
       "      <th>Zend</th>\n",
       "      <td>1</td>\n",
       "      <td>0.013889</td>\n",
       "    </tr>\n",
       "  </tbody>\n",
       "</table>\n",
       "</div>"
      ],
      "text/plain": [
       "                    Num   Percent\n",
       "IDE                              \n",
       "Visual Studio        23  0.319444\n",
       "Sublime Text         20  0.277778\n",
       "Notepad++            19  0.263889\n",
       "Android Studio       12  0.166667\n",
       "Eclipse              10  0.138889\n",
       "Visual Studio Code   10  0.138889\n",
       "Vim                   8  0.111111\n",
       "Xcode                 8  0.111111\n",
       "Atom                  7  0.097222\n",
       "PHPStorm              6  0.083333\n",
       "NetBeans              4  0.055556\n",
       "IntelliJ              4  0.055556\n",
       "RubyMine              3  0.041667\n",
       "PyCharm               3  0.041667\n",
       "RStudio               2  0.027778\n",
       "IPython / Jupyter     2  0.027778\n",
       "Emacs                 1  0.013889\n",
       "Zend                  1  0.013889"
      ]
     },
     "execution_count": 15,
     "metadata": {},
     "output_type": "execute_result"
    }
   ],
   "source": [
    "ide_list = [x for x in df['IDE'].dropna().str.split(';')]\n",
    "ide_list = flatten(ide_list)\n",
    "\n",
    "ide_list = [x.strip() for x in ide_list]\n",
    "\n",
    "result_list = []\n",
    "for ide in set(ide_list):\n",
    "    num = ide_list.count(ide)\n",
    "    result_list.append({\n",
    "        'IDE': ide,\n",
    "        'Num': num,\n",
    "        'Percent':num/df.shape[0]\n",
    "    })\n",
    "df_result = pd.DataFrame(result_list, columns=['IDE', 'Num', 'Percent'])\n",
    "#delete nan data\n",
    "df_result.dropna(inplace=True)\n",
    "df_result.sort_values('Num', ascending=False, inplace=True)\n",
    "\n",
    "df_result.set_index('IDE', inplace=True)\n",
    "\n",
    "df_result"
   ]
  },
  {
   "cell_type": "code",
   "execution_count": 16,
   "metadata": {
    "id": "aa4f3421-8255-4bb7-ab66-7dc4099a9ccb"
   },
   "outputs": [
    {
     "data": {
      "image/png": "[encoded data removed]",
      "text/plain": [
       "<Figure size 432x720 with 1 Axes>"
      ]
     },
     "metadata": {
      "needs_background": "light"
     },
     "output_type": "display_data"
    }
   ],
   "source": [
    "#make plot with seaborn, for posting on the MEDIUM\n",
    "f, ax = plt.subplots(figsize=(6, 10))\n",
    "sns.barplot(x=df_result.Percent, y=df_result.index)\n",
    "\n",
    "ax.set(xlim=(0, 1), ylabel=\"\",\n",
    "       xlabel=\"Usage percentage of each IDE of new developers\")\n",
    "sns.despine(left=True, bottom=True)"
   ]
  },
  {
   "cell_type": "markdown",
   "metadata": {
    "id": "7019f33a-068f-4549-a6ab-4741842bc91c"
   },
   "source": [
    "- Vs is still a popular ide. With the simple sublime text ranking, it is a good choice for novices."
   ]
  },
  {
   "cell_type": "markdown",
   "metadata": {
    "id": "2bcff179-0716-48c0-ac63-b1dad0c7f266"
   },
   "source": [
    "## Q2:What is the difference in revenue between different programming experiences?"
   ]
  },
  {
   "cell_type": "code",
   "execution_count": 17,
   "metadata": {
    "id": "b1fc218c-518f-450d-ae0c-53980bc8e07a"
   },
   "outputs": [
    {
     "data": {
      "image/png": "[encoded data removed]",
      "text/plain": [
       "<Figure size 432x288 with 1 Axes>"
      ]
     },
     "metadata": {
      "needs_background": "light"
     },
     "output_type": "display_data"
    }
   ],
   "source": [
    "#Distribution of different programming age levels\n",
    "years = data['YearsProgram'].value_counts().sort_values()/data.shape[0]\n",
    "years.plot.barh();"
   ]
  },
  {
   "cell_type": "code",
   "execution_count": 18,
   "metadata": {
    "id": "0dbb9575-553f-4bdb-a2e6-7d7cede887a1"
   },
   "outputs": [],
   "source": [
    "#make programming years data Numerical \n",
    "years_program_dict={\n",
    "    'Less than a year':0.5,\n",
    "    '1 to 2 years':1.5,\n",
    "    '2 to 3 years':2.5,\n",
    "    '3 to 4 years':3.5,\n",
    "    '4 to 5 years':4.5,\n",
    "    '5 to 6 years':5.5,\n",
    "    '6 to 7 years':6.5,\n",
    "    '7 to 8 years':7.5,\n",
    "    '8 to 9 years':8.5,\n",
    "    '9 to 10 years':9.5,\n",
    "    '10 to 11 years':10.5,\n",
    "    '11 to 12 years':11.5,\n",
    "    '12 to 13 years':12.5,\n",
    "    '13 to 14 years':13.5,\n",
    "    '14 to 15 years':14.5,\n",
    "    '15 to 16 years':15.5,\n",
    "    '16 to 17 years':16.5,\n",
    "    '17 to 18 years':17.5,\n",
    "    '18 to 19 years':18.5,\n",
    "    '19 to 20 years':19.5,\n",
    "    '20 or more years':20\n",
    "}\n",
    "\n",
    "df = data.dropna(subset=['YearsProgram'])\n",
    "#transform\n",
    "df['YearsProgram'] = df['YearsProgram'].map(years_program_dict)"
   ]
  },
  {
   "cell_type": "code",
   "execution_count": 19,
   "metadata": {
    "id": "aea14f8d-baa3-4b35-ba33-5813676818fd"
   },
   "outputs": [
    {
     "data": {
      "text/html": [
       "<div>\n",
       "<style scoped>\n",
       "    .dataframe tbody tr th:only-of-type {\n",
       "        vertical-align: middle;\n",
       "    }\n",
       "\n",
       "    .dataframe tbody tr th {\n",
       "        vertical-align: top;\n",
       "    }\n",
       "\n",
       "    .dataframe thead th {\n",
       "        text-align: right;\n",
       "    }\n",
       "</style>\n",
       "<table border=\"1\" class=\"dataframe\">\n",
       "  <thead>\n",
       "    <tr style=\"text-align: right;\">\n",
       "      <th></th>\n",
       "      <th>Years</th>\n",
       "      <th>Salary</th>\n",
       "      <th>Count</th>\n",
       "      <th>Percent</th>\n",
       "      <th>Cum_percent</th>\n",
       "    </tr>\n",
       "  </thead>\n",
       "  <tbody>\n",
       "    <tr>\n",
       "      <th>0</th>\n",
       "      <td>20.0</td>\n",
       "      <td>79545</td>\n",
       "      <td>2541</td>\n",
       "      <td>0.204474</td>\n",
       "      <td>0.204474</td>\n",
       "    </tr>\n",
       "    <tr>\n",
       "      <th>1</th>\n",
       "      <td>17.5</td>\n",
       "      <td>67270</td>\n",
       "      <td>328</td>\n",
       "      <td>0.026394</td>\n",
       "      <td>0.230868</td>\n",
       "    </tr>\n",
       "    <tr>\n",
       "      <th>2</th>\n",
       "      <td>18.5</td>\n",
       "      <td>65000</td>\n",
       "      <td>188</td>\n",
       "      <td>0.015128</td>\n",
       "      <td>0.245997</td>\n",
       "    </tr>\n",
       "    <tr>\n",
       "      <th>3</th>\n",
       "      <td>19.5</td>\n",
       "      <td>65000</td>\n",
       "      <td>323</td>\n",
       "      <td>0.025992</td>\n",
       "      <td>0.271988</td>\n",
       "    </tr>\n",
       "    <tr>\n",
       "      <th>4</th>\n",
       "      <td>16.5</td>\n",
       "      <td>60108</td>\n",
       "      <td>330</td>\n",
       "      <td>0.026555</td>\n",
       "      <td>0.298543</td>\n",
       "    </tr>\n",
       "    <tr>\n",
       "      <th>5</th>\n",
       "      <td>14.5</td>\n",
       "      <td>59140</td>\n",
       "      <td>639</td>\n",
       "      <td>0.051420</td>\n",
       "      <td>0.349964</td>\n",
       "    </tr>\n",
       "    <tr>\n",
       "      <th>6</th>\n",
       "      <td>15.5</td>\n",
       "      <td>56206</td>\n",
       "      <td>559</td>\n",
       "      <td>0.044983</td>\n",
       "      <td>0.394946</td>\n",
       "    </tr>\n",
       "    <tr>\n",
       "      <th>7</th>\n",
       "      <td>13.5</td>\n",
       "      <td>53030</td>\n",
       "      <td>371</td>\n",
       "      <td>0.029854</td>\n",
       "      <td>0.424801</td>\n",
       "    </tr>\n",
       "    <tr>\n",
       "      <th>8</th>\n",
       "      <td>11.5</td>\n",
       "      <td>51000</td>\n",
       "      <td>435</td>\n",
       "      <td>0.035004</td>\n",
       "      <td>0.459805</td>\n",
       "    </tr>\n",
       "    <tr>\n",
       "      <th>9</th>\n",
       "      <td>12.5</td>\n",
       "      <td>48815</td>\n",
       "      <td>452</td>\n",
       "      <td>0.036372</td>\n",
       "      <td>0.496178</td>\n",
       "    </tr>\n",
       "    <tr>\n",
       "      <th>10</th>\n",
       "      <td>10.5</td>\n",
       "      <td>46321</td>\n",
       "      <td>700</td>\n",
       "      <td>0.056329</td>\n",
       "      <td>0.552507</td>\n",
       "    </tr>\n",
       "    <tr>\n",
       "      <th>11</th>\n",
       "      <td>9.5</td>\n",
       "      <td>43750</td>\n",
       "      <td>926</td>\n",
       "      <td>0.074515</td>\n",
       "      <td>0.627022</td>\n",
       "    </tr>\n",
       "    <tr>\n",
       "      <th>12</th>\n",
       "      <td>8.5</td>\n",
       "      <td>43011</td>\n",
       "      <td>527</td>\n",
       "      <td>0.042408</td>\n",
       "      <td>0.669429</td>\n",
       "    </tr>\n",
       "    <tr>\n",
       "      <th>13</th>\n",
       "      <td>7.5</td>\n",
       "      <td>39259</td>\n",
       "      <td>654</td>\n",
       "      <td>0.052627</td>\n",
       "      <td>0.722057</td>\n",
       "    </tr>\n",
       "    <tr>\n",
       "      <th>14</th>\n",
       "      <td>6.5</td>\n",
       "      <td>37460</td>\n",
       "      <td>680</td>\n",
       "      <td>0.054720</td>\n",
       "      <td>0.776776</td>\n",
       "    </tr>\n",
       "    <tr>\n",
       "      <th>15</th>\n",
       "      <td>3.5</td>\n",
       "      <td>35000</td>\n",
       "      <td>570</td>\n",
       "      <td>0.045868</td>\n",
       "      <td>0.822644</td>\n",
       "    </tr>\n",
       "    <tr>\n",
       "      <th>16</th>\n",
       "      <td>5.5</td>\n",
       "      <td>34973</td>\n",
       "      <td>748</td>\n",
       "      <td>0.060192</td>\n",
       "      <td>0.882836</td>\n",
       "    </tr>\n",
       "    <tr>\n",
       "      <th>17</th>\n",
       "      <td>4.5</td>\n",
       "      <td>32878</td>\n",
       "      <td>749</td>\n",
       "      <td>0.060272</td>\n",
       "      <td>0.943108</td>\n",
       "    </tr>\n",
       "    <tr>\n",
       "      <th>18</th>\n",
       "      <td>1.5</td>\n",
       "      <td>30054</td>\n",
       "      <td>228</td>\n",
       "      <td>0.018347</td>\n",
       "      <td>0.961455</td>\n",
       "    </tr>\n",
       "    <tr>\n",
       "      <th>19</th>\n",
       "      <td>2.5</td>\n",
       "      <td>28788</td>\n",
       "      <td>407</td>\n",
       "      <td>0.032751</td>\n",
       "      <td>0.994206</td>\n",
       "    </tr>\n",
       "    <tr>\n",
       "      <th>20</th>\n",
       "      <td>0.5</td>\n",
       "      <td>14404</td>\n",
       "      <td>72</td>\n",
       "      <td>0.005794</td>\n",
       "      <td>1.000000</td>\n",
       "    </tr>\n",
       "  </tbody>\n",
       "</table>\n",
       "</div>"
      ],
      "text/plain": [
       "    Years  Salary  Count   Percent  Cum_percent\n",
       "0    20.0   79545   2541  0.204474     0.204474\n",
       "1    17.5   67270    328  0.026394     0.230868\n",
       "2    18.5   65000    188  0.015128     0.245997\n",
       "3    19.5   65000    323  0.025992     0.271988\n",
       "4    16.5   60108    330  0.026555     0.298543\n",
       "5    14.5   59140    639  0.051420     0.349964\n",
       "6    15.5   56206    559  0.044983     0.394946\n",
       "7    13.5   53030    371  0.029854     0.424801\n",
       "8    11.5   51000    435  0.035004     0.459805\n",
       "9    12.5   48815    452  0.036372     0.496178\n",
       "10   10.5   46321    700  0.056329     0.552507\n",
       "11    9.5   43750    926  0.074515     0.627022\n",
       "12    8.5   43011    527  0.042408     0.669429\n",
       "13    7.5   39259    654  0.052627     0.722057\n",
       "14    6.5   37460    680  0.054720     0.776776\n",
       "15    3.5   35000    570  0.045868     0.822644\n",
       "16    5.5   34973    748  0.060192     0.882836\n",
       "17    4.5   32878    749  0.060272     0.943108\n",
       "18    1.5   30054    228  0.018347     0.961455\n",
       "19    2.5   28788    407  0.032751     0.994206\n",
       "20    0.5   14404     72  0.005794     1.000000"
      ]
     },
     "execution_count": 19,
     "metadata": {},
     "output_type": "execute_result"
    }
   ],
   "source": [
    "#median income for different years\n",
    "years_list = df['YearsProgram'].value_counts().index.tolist()\n",
    "result = []\n",
    "for year in years_list:\n",
    "    df_temp = df[df['YearsProgram']==year]\n",
    "    result.append({\n",
    "        'Years':year,\n",
    "        'Salary':int(np.round(df_temp['Salary'].median(), 0)),\n",
    "        'Count':df_temp.shape[0],\n",
    "        'Percent':df_temp.shape[0]/df.shape[0]\n",
    "    })\n",
    "df_result = pd.DataFrame(result, columns=['Years', 'Salary', 'Count', 'Percent'])\n",
    "df_result.sort_values('Salary', ascending=False, inplace=True)\n",
    "df_result.reset_index(drop=True, inplace=True)\n",
    "\n",
    "#Cumulative sum\n",
    "df_result['Cum_percent'] = df_result['Percent'].cumsum()\n",
    "df_result"
   ]
  },
  {
   "cell_type": "code",
   "execution_count": 20,
   "metadata": {
    "id": "7b9e5068-8ed1-4e66-9563-9d4ec441df2d"
   },
   "outputs": [
    {
     "data": {
      "image/png": "[encoded data removed]",
      "text/plain": [
       "<Figure size 432x288 with 1 Axes>"
      ]
     },
     "metadata": {
      "needs_background": "light"
     },
     "output_type": "display_data"
    }
   ],
   "source": [
    "#Scatter chart of programming years and median income\n",
    "df_result.plot.scatter(x='Years', y='Salary');"
   ]
  },
  {
   "cell_type": "code",
   "execution_count": 21,
   "metadata": {
    "id": "d1270063-5c4f-4f2e-a734-9d2a1d10ee90"
   },
   "outputs": [
    {
     "name": "stdout",
     "output_type": "stream",
     "text": [
      "k 2475.2364234262445\n",
      "b 21259.999373629817\n",
      "y=2475.2364234262445*x+21259.999373629817\n"
     ]
    }
   ],
   "source": [
    "#model\n",
    "from sklearn.linear_model import LinearRegression\n",
    "linreg = LinearRegression()\n",
    "linreg.fit(np.array(df_result['Years']).reshape(-1,1), df_result['Salary'])\n",
    "\n",
    "#coefficient\n",
    "print('k',linreg.coef_[0])\n",
    "print('b', linreg.intercept_)\n",
    "print('y={}*x+{}'.format(linreg.coef_[0], linreg.intercept_))"
   ]
  },
  {
   "cell_type": "code",
   "execution_count": 22,
   "metadata": {
    "id": "5ad1cf65-feef-4325-b0d2-435800cefab4"
   },
   "outputs": [
    {
     "data": {
      "image/png": "[encoded data removed]",
      "text/plain": [
       "<Figure size 360x432 with 1 Axes>"
      ]
     },
     "metadata": {
      "needs_background": "light"
     },
     "output_type": "display_data"
    }
   ],
   "source": [
    "#making plot with seaborn\n",
    "f, ax = plt.subplots(figsize=(5, 6))\n",
    "sns.regplot(x='Years', y='Salary', data=df_result)\n",
    "ax.set(xlim=(0, 21), ylabel=\"\",\n",
    "       xlabel=\"ProgramYears VS Salary_median\\n\\ny=2475*x+21260\")\n",
    "sns.despine(left=True, bottom=True)"
   ]
  },
  {
   "cell_type": "markdown",
   "metadata": {
    "id": "689ae4f6-5c33-4449-9156-2e82a4b3b341"
   },
   "source": [
    "- On the whole, the more experience in programming, the higher the income;\n",
    "\n",
    "- For full-time developers, it can be expected that wages will rise by 2500 in less than a year. If you don't reach this level, your salary growth is behind the average."
   ]
  },
  {
   "cell_type": "markdown",
   "metadata": {
    "id": "45cdd999-2fe8-4a22-89ec-943a226de20c"
   },
   "source": [
    "## Q3:What is the impact of different majors on income? Which major pays the most? What is the level of mathematics major?"
   ]
  },
  {
   "cell_type": "code",
   "execution_count": 23,
   "metadata": {
    "id": "ce9af4a1-4904-47c7-8d90-d5af05be2763"
   },
   "outputs": [
    {
     "data": {
      "image/png": "[encoded data removed]",
      "text/plain": [
       "<Figure size 432x288 with 1 Axes>"
      ]
     },
     "metadata": {
      "needs_background": "light"
     },
     "output_type": "display_data"
    }
   ],
   "source": [
    "#Distribution of different majors\n",
    "major = data['MajorUndergrad'].value_counts().sort_values()/data.shape[0]\n",
    "major.plot.barh();"
   ]
  },
  {
   "cell_type": "code",
   "execution_count": 24,
   "metadata": {
    "id": "bd37dbd0-9d60-44c4-a250-8773f631af7b"
   },
   "outputs": [
    {
     "data": {
      "text/html": [
       "<div>\n",
       "<style scoped>\n",
       "    .dataframe tbody tr th:only-of-type {\n",
       "        vertical-align: middle;\n",
       "    }\n",
       "\n",
       "    .dataframe tbody tr th {\n",
       "        vertical-align: top;\n",
       "    }\n",
       "\n",
       "    .dataframe thead th {\n",
       "        text-align: right;\n",
       "    }\n",
       "</style>\n",
       "<table border=\"1\" class=\"dataframe\">\n",
       "  <thead>\n",
       "    <tr style=\"text-align: right;\">\n",
       "      <th></th>\n",
       "      <th>Salary</th>\n",
       "      <th>Count</th>\n",
       "      <th>Percent</th>\n",
       "      <th>Cum_percent</th>\n",
       "    </tr>\n",
       "    <tr>\n",
       "      <th>Major</th>\n",
       "      <th></th>\n",
       "      <th></th>\n",
       "      <th></th>\n",
       "      <th></th>\n",
       "    </tr>\n",
       "  </thead>\n",
       "  <tbody>\n",
       "    <tr>\n",
       "      <th>Psychology</th>\n",
       "      <td>75269</td>\n",
       "      <td>53</td>\n",
       "      <td>0.004564</td>\n",
       "      <td>0.004564</td>\n",
       "    </tr>\n",
       "    <tr>\n",
       "      <th>Management information systems</th>\n",
       "      <td>70000</td>\n",
       "      <td>175</td>\n",
       "      <td>0.015069</td>\n",
       "      <td>0.019633</td>\n",
       "    </tr>\n",
       "    <tr>\n",
       "      <th>A social science</th>\n",
       "      <td>69892</td>\n",
       "      <td>161</td>\n",
       "      <td>0.013864</td>\n",
       "      <td>0.033497</td>\n",
       "    </tr>\n",
       "    <tr>\n",
       "      <th>Fine arts or performing arts</th>\n",
       "      <td>68182</td>\n",
       "      <td>191</td>\n",
       "      <td>0.016447</td>\n",
       "      <td>0.049944</td>\n",
       "    </tr>\n",
       "    <tr>\n",
       "      <th>A business discipline</th>\n",
       "      <td>64516</td>\n",
       "      <td>217</td>\n",
       "      <td>0.018686</td>\n",
       "      <td>0.068630</td>\n",
       "    </tr>\n",
       "    <tr>\n",
       "      <th>A humanities discipline</th>\n",
       "      <td>61000</td>\n",
       "      <td>273</td>\n",
       "      <td>0.023508</td>\n",
       "      <td>0.092138</td>\n",
       "    </tr>\n",
       "    <tr>\n",
       "      <th>Mathematics or statistics</th>\n",
       "      <td>60108</td>\n",
       "      <td>434</td>\n",
       "      <td>0.037372</td>\n",
       "      <td>0.129510</td>\n",
       "    </tr>\n",
       "    <tr>\n",
       "      <th>A natural science</th>\n",
       "      <td>60000</td>\n",
       "      <td>482</td>\n",
       "      <td>0.041505</td>\n",
       "      <td>0.171015</td>\n",
       "    </tr>\n",
       "    <tr>\n",
       "      <th>I never declared a major</th>\n",
       "      <td>57015</td>\n",
       "      <td>156</td>\n",
       "      <td>0.013433</td>\n",
       "      <td>0.184448</td>\n",
       "    </tr>\n",
       "    <tr>\n",
       "      <th>A non-computer-focused engineering discipline</th>\n",
       "      <td>56250</td>\n",
       "      <td>417</td>\n",
       "      <td>0.035908</td>\n",
       "      <td>0.220356</td>\n",
       "    </tr>\n",
       "    <tr>\n",
       "      <th>Something else</th>\n",
       "      <td>52688</td>\n",
       "      <td>273</td>\n",
       "      <td>0.023508</td>\n",
       "      <td>0.243865</td>\n",
       "    </tr>\n",
       "    <tr>\n",
       "      <th>Computer science or software engineering</th>\n",
       "      <td>52360</td>\n",
       "      <td>6264</td>\n",
       "      <td>0.539396</td>\n",
       "      <td>0.783260</td>\n",
       "    </tr>\n",
       "    <tr>\n",
       "      <th>A health science</th>\n",
       "      <td>51894</td>\n",
       "      <td>21</td>\n",
       "      <td>0.001808</td>\n",
       "      <td>0.785068</td>\n",
       "    </tr>\n",
       "    <tr>\n",
       "      <th>Computer engineering or electrical/electronics engineering</th>\n",
       "      <td>50451</td>\n",
       "      <td>1063</td>\n",
       "      <td>0.091535</td>\n",
       "      <td>0.876604</td>\n",
       "    </tr>\n",
       "    <tr>\n",
       "      <th>Information technology, networking, or system administration</th>\n",
       "      <td>38710</td>\n",
       "      <td>466</td>\n",
       "      <td>0.040127</td>\n",
       "      <td>0.916731</td>\n",
       "    </tr>\n",
       "    <tr>\n",
       "      <th>Computer programming or Web development</th>\n",
       "      <td>38217</td>\n",
       "      <td>967</td>\n",
       "      <td>0.083269</td>\n",
       "      <td>1.000000</td>\n",
       "    </tr>\n",
       "  </tbody>\n",
       "</table>\n",
       "</div>"
      ],
      "text/plain": [
       "                                                    Salary  Count   Percent  \\\n",
       "Major                                                                         \n",
       "Psychology                                           75269     53  0.004564   \n",
       "Management information systems                       70000    175  0.015069   \n",
       "A social science                                     69892    161  0.013864   \n",
       "Fine arts or performing arts                         68182    191  0.016447   \n",
       "A business discipline                                64516    217  0.018686   \n",
       "A humanities discipline                              61000    273  0.023508   \n",
       "Mathematics or statistics                            60108    434  0.037372   \n",
       "A natural science                                    60000    482  0.041505   \n",
       "I never declared a major                             57015    156  0.013433   \n",
       "A non-computer-focused engineering discipline        56250    417  0.035908   \n",
       "Something else                                       52688    273  0.023508   \n",
       "Computer science or software engineering             52360   6264  0.539396   \n",
       "A health science                                     51894     21  0.001808   \n",
       "Computer engineering or electrical/electronics ...   50451   1063  0.091535   \n",
       "Information technology, networking, or system a...   38710    466  0.040127   \n",
       "Computer programming or Web development              38217    967  0.083269   \n",
       "\n",
       "                                                    Cum_percent  \n",
       "Major                                                            \n",
       "Psychology                                             0.004564  \n",
       "Management information systems                         0.019633  \n",
       "A social science                                       0.033497  \n",
       "Fine arts or performing arts                           0.049944  \n",
       "A business discipline                                  0.068630  \n",
       "A humanities discipline                                0.092138  \n",
       "Mathematics or statistics                              0.129510  \n",
       "A natural science                                      0.171015  \n",
       "I never declared a major                               0.184448  \n",
       "A non-computer-focused engineering discipline          0.220356  \n",
       "Something else                                         0.243865  \n",
       "Computer science or software engineering               0.783260  \n",
       "A health science                                       0.785068  \n",
       "Computer engineering or electrical/electronics ...     0.876604  \n",
       "Information technology, networking, or system a...     0.916731  \n",
       "Computer programming or Web development                1.000000  "
      ]
     },
     "execution_count": 24,
     "metadata": {},
     "output_type": "execute_result"
    }
   ],
   "source": [
    "#consider the full-time developers\n",
    "df = data.dropna(subset=['MajorUndergrad'])\n",
    "\n",
    "major_list = df['MajorUndergrad'].value_counts().index.tolist()\n",
    "result = []\n",
    "for major in major_list:\n",
    "    df_temp = df[df['MajorUndergrad']==major]\n",
    "    result.append({\n",
    "        'Major':major,\n",
    "        'Salary':int(np.round(df_temp['Salary'].median(), 0)),\n",
    "        'Count':df_temp.shape[0],\n",
    "        'Percent':df_temp.shape[0]/df.shape[0]\n",
    "    })\n",
    "df_result = pd.DataFrame(result, columns=['Major', 'Salary', 'Count', 'Percent'])\n",
    "df_result.sort_values('Salary', ascending=False, inplace=True)\n",
    "df_result.set_index('Major', drop=True, inplace=True)\n",
    "\n",
    "#Cumulative sum\n",
    "df_result['Cum_percent'] = df_result['Percent'].cumsum()\n",
    "df_result"
   ]
  },
  {
   "cell_type": "code",
   "execution_count": 25,
   "metadata": {
    "id": "3b301161-73d3-4cbc-b06a-414a0a77fb52"
   },
   "outputs": [
    {
     "data": {
      "image/png": "[encoded data removed]",
      "text/plain": [
       "<Figure size 432x720 with 1 Axes>"
      ]
     },
     "metadata": {
      "needs_background": "light"
     },
     "output_type": "display_data"
    }
   ],
   "source": [
    "#making plots with seaborn\n",
    "f, ax = plt.subplots(figsize=(6, 10))\n",
    "sns.barplot(x=df_result.Salary, y=df_result.index)\n",
    "\n",
    "ax.set(xlim=(0, 100000), ylabel=\"\",\n",
    "       xlabel=\"Major VS Salary_median\")\n",
    "sns.despine(left=True, bottom=True)"
   ]
  },
  {
   "cell_type": "markdown",
   "metadata": {
    "id": "538ad24d-881b-4ff0-8f73-2966eb29d70d"
   },
   "source": [
    "- The average median of full-time professionals in psychology is more than 75000, ranking first;\n",
    "\n",
    "- Mathematics or statistics ranks seventh in the median wage level, 60108. Only 9% of people earn more than math majors."
   ]
  },
  {
   "cell_type": "markdown",
   "metadata": {
    "id": "5e98c079-3519-428c-946b-02d87ee276dd"
   },
   "source": [
    "## Q4:What is the impact of different education levels on income? What's the difference between bachelor, master and hospital?"
   ]
  },
  {
   "cell_type": "code",
   "execution_count": 65,
   "metadata": {
    "id": "0009d4e5-5b92-4437-a866-a04341f122b6"
   },
   "outputs": [
    {
     "data": {
      "image/png": "[encoded data removed]",
      "text/plain": [
       "<Figure size 432x288 with 1 Axes>"
      ]
     },
     "metadata": {
      "needs_background": "light"
     },
     "output_type": "display_data"
    }
   ],
   "source": [
    "#Distribution of different levels of Education\n",
    "education = data['FormalEducation'].value_counts().sort_values()/data.shape[0]\n",
    "education.plot.barh();"
   ]
  },
  {
   "cell_type": "code",
   "execution_count": 27,
   "metadata": {
    "id": "0dd53e08-7865-4cb6-9848-fd53eb704248"
   },
   "outputs": [
    {
     "data": {
      "text/html": [
       "<div>\n",
       "<style scoped>\n",
       "    .dataframe tbody tr th:only-of-type {\n",
       "        vertical-align: middle;\n",
       "    }\n",
       "\n",
       "    .dataframe tbody tr th {\n",
       "        vertical-align: top;\n",
       "    }\n",
       "\n",
       "    .dataframe thead th {\n",
       "        text-align: right;\n",
       "    }\n",
       "</style>\n",
       "<table border=\"1\" class=\"dataframe\">\n",
       "  <thead>\n",
       "    <tr style=\"text-align: right;\">\n",
       "      <th></th>\n",
       "      <th>Salary</th>\n",
       "      <th>Count</th>\n",
       "      <th>Percent</th>\n",
       "      <th>Cum_percent</th>\n",
       "    </tr>\n",
       "    <tr>\n",
       "      <th>Education</th>\n",
       "      <th></th>\n",
       "      <th></th>\n",
       "      <th></th>\n",
       "      <th></th>\n",
       "    </tr>\n",
       "  </thead>\n",
       "  <tbody>\n",
       "    <tr>\n",
       "      <th>Doctoral degree</th>\n",
       "      <td>65115</td>\n",
       "      <td>288</td>\n",
       "      <td>0.023155</td>\n",
       "      <td>0.023155</td>\n",
       "    </tr>\n",
       "    <tr>\n",
       "      <th>Primary/elementary school</th>\n",
       "      <td>63500</td>\n",
       "      <td>51</td>\n",
       "      <td>0.004100</td>\n",
       "      <td>0.027255</td>\n",
       "    </tr>\n",
       "    <tr>\n",
       "      <th>Bachelor's degree</th>\n",
       "      <td>53750</td>\n",
       "      <td>6230</td>\n",
       "      <td>0.500884</td>\n",
       "      <td>0.528140</td>\n",
       "    </tr>\n",
       "    <tr>\n",
       "      <th>Master's degree</th>\n",
       "      <td>50538</td>\n",
       "      <td>3031</td>\n",
       "      <td>0.243689</td>\n",
       "      <td>0.771828</td>\n",
       "    </tr>\n",
       "    <tr>\n",
       "      <th>Some college/university study without earning a bachelor's degree</th>\n",
       "      <td>50000</td>\n",
       "      <td>1929</td>\n",
       "      <td>0.155089</td>\n",
       "      <td>0.926918</td>\n",
       "    </tr>\n",
       "    <tr>\n",
       "      <th>Secondary school</th>\n",
       "      <td>38710</td>\n",
       "      <td>667</td>\n",
       "      <td>0.053626</td>\n",
       "      <td>0.980543</td>\n",
       "    </tr>\n",
       "    <tr>\n",
       "      <th>I never completed any formal education</th>\n",
       "      <td>37757</td>\n",
       "      <td>60</td>\n",
       "      <td>0.004824</td>\n",
       "      <td>0.985367</td>\n",
       "    </tr>\n",
       "    <tr>\n",
       "      <th>I prefer not to answer</th>\n",
       "      <td>37634</td>\n",
       "      <td>41</td>\n",
       "      <td>0.003296</td>\n",
       "      <td>0.988664</td>\n",
       "    </tr>\n",
       "    <tr>\n",
       "      <th>Professional degree</th>\n",
       "      <td>32258</td>\n",
       "      <td>141</td>\n",
       "      <td>0.011336</td>\n",
       "      <td>1.000000</td>\n",
       "    </tr>\n",
       "  </tbody>\n",
       "</table>\n",
       "</div>"
      ],
      "text/plain": [
       "                                                    Salary  Count   Percent  \\\n",
       "Education                                                                     \n",
       "Doctoral degree                                      65115    288  0.023155   \n",
       "Primary/elementary school                            63500     51  0.004100   \n",
       "Bachelor's degree                                    53750   6230  0.500884   \n",
       "Master's degree                                      50538   3031  0.243689   \n",
       "Some college/university study without earning a...   50000   1929  0.155089   \n",
       "Secondary school                                     38710    667  0.053626   \n",
       "I never completed any formal education               37757     60  0.004824   \n",
       "I prefer not to answer                               37634     41  0.003296   \n",
       "Professional degree                                  32258    141  0.011336   \n",
       "\n",
       "                                                    Cum_percent  \n",
       "Education                                                        \n",
       "Doctoral degree                                        0.023155  \n",
       "Primary/elementary school                              0.027255  \n",
       "Bachelor's degree                                      0.528140  \n",
       "Master's degree                                        0.771828  \n",
       "Some college/university study without earning a...     0.926918  \n",
       "Secondary school                                       0.980543  \n",
       "I never completed any formal education                 0.985367  \n",
       "I prefer not to answer                                 0.988664  \n",
       "Professional degree                                    1.000000  "
      ]
     },
     "execution_count": 27,
     "metadata": {},
     "output_type": "execute_result"
    }
   ],
   "source": [
    "#consider the full-time developers\n",
    "df = data.dropna(subset=['FormalEducation'])\n",
    "\n",
    "education_list = df['FormalEducation'].value_counts().index.tolist()\n",
    "result = []\n",
    "for education in education_list:\n",
    "    df_temp = df[df['FormalEducation']==education]\n",
    "    result.append({\n",
    "        'Education':education,\n",
    "        'Salary':int(np.round(df_temp['Salary'].median(), 0)),\n",
    "        'Count':df_temp.shape[0],\n",
    "        'Percent':df_temp.shape[0]/df.shape[0]\n",
    "    })\n",
    "df_result = pd.DataFrame(result, columns=['Education', 'Salary', 'Count', 'Percent'])\n",
    "df_result.sort_values('Salary', ascending=False, inplace=True)\n",
    "df_result.set_index('Education', drop=True, inplace=True)\n",
    "\n",
    "#Cumulative sum\n",
    "df_result['Cum_percent'] = df_result['Percent'].cumsum()\n",
    "df_result"
   ]
  },
  {
   "cell_type": "code",
   "execution_count": 28,
   "metadata": {
    "id": "33c62093-0055-48e1-b78a-700f2b2676ac"
   },
   "outputs": [
    {
     "data": {
      "image/png": "[encoded data removed]",
      "text/plain": [
       "<Figure size 432x576 with 1 Axes>"
      ]
     },
     "metadata": {
      "needs_background": "light"
     },
     "output_type": "display_data"
    }
   ],
   "source": [
    "#making plot with seaborn\n",
    "f, ax = plt.subplots(figsize=(6, 8))\n",
    "sns.barplot(x=df_result.Salary, y=df_result.index)\n",
    "\n",
    "ax.set(xlim=(0, 100000), ylabel=\"\",\n",
    "       xlabel=\"Education VS Salary_median\")\n",
    "sns.despine(left=True, bottom=True)"
   ]
  },
  {
   "cell_type": "markdown",
   "metadata": {
    "id": "92d88168-6c39-49a0-8f18-8ca9edaf6e15"
   },
   "source": [
    "- High education does not necessarily mean high income. But from the picture, people with high education are less likely to get a relatively low income.\n",
    "\n",
    "- In terms of median, bachelor and master are at the same level, while doctoral is much higher. In the short term, there is no significant increase in salary level from bachelor to master, but in the long term, there will be a significant increase when reaching doctoral."
   ]
  },
  {
   "cell_type": "markdown",
   "metadata": {
    "id": "74487dca-1796-4e50-b775-e6305b655d87"
   },
   "source": [
    "# Prepare Data"
   ]
  },
  {
   "cell_type": "code",
   "execution_count": 95,
   "metadata": {
    "id": "7b64382e-cb37-48c6-8ce6-b611fdafa530"
   },
   "outputs": [
    {
     "data": {
      "text/plain": [
       "count     10102.000000\n",
       "mean      68860.680210\n",
       "std       35314.468999\n",
       "min       20000.000000\n",
       "25%       41879.734848\n",
       "50%       60000.000000\n",
       "75%       90000.000000\n",
       "max      197000.000000\n",
       "Name: Salary, dtype: float64"
      ]
     },
     "execution_count": 95,
     "metadata": {},
     "output_type": "execute_result"
    }
   ],
   "source": [
    "# the reasonable salary\r\n",
    "data['Salary'].describe()"
   ]
  },
  {
   "cell_type": "markdown",
   "metadata": {
    "id": "10792deb-60c2-4364-b37b-801113d89702"
   },
   "source": [
    "It's not likely to have to too low salary, as the 25% salary is more than 27000.I'm interesting in High Salary.So let's adjust our goal to predicting the salary hgiher than 25000"
   ]
  },
  {
   "cell_type": "code",
   "execution_count": 96,
   "metadata": {
    "id": "5241b4af-e402-42f2-bb2b-8cb4f0a403ba"
   },
   "outputs": [],
   "source": [
    "data=data[data['Salary']>=25000]"
   ]
  },
  {
   "cell_type": "code",
   "execution_count": 97,
   "metadata": {
    "id": "fd1c92d6-95fb-4b63-9b46-82f308ca0119"
   },
   "outputs": [
    {
     "data": {
      "text/plain": [
       "(9660, 154)"
      ]
     },
     "execution_count": 97,
     "metadata": {},
     "output_type": "execute_result"
    }
   ],
   "source": [
    "data.shape"
   ]
  },
  {
   "cell_type": "code",
   "execution_count": 98,
   "metadata": {
    "id": "ec4caf08-d472-4795-b424-b6b495de59a8"
   },
   "outputs": [
    {
     "name": "stdout",
     "output_type": "stream",
     "text": [
      "5 nemeric vars having missing values\n"
     ]
    },
    {
     "data": {
      "text/html": [
       "<div>\n",
       "<style scoped>\n",
       "    .dataframe tbody tr th:only-of-type {\n",
       "        vertical-align: middle;\n",
       "    }\n",
       "\n",
       "    .dataframe tbody tr th {\n",
       "        vertical-align: top;\n",
       "    }\n",
       "\n",
       "    .dataframe thead th {\n",
       "        text-align: right;\n",
       "    }\n",
       "</style>\n",
       "<table border=\"1\" class=\"dataframe\">\n",
       "  <thead>\n",
       "    <tr style=\"text-align: right;\">\n",
       "      <th></th>\n",
       "      <th>CareerSatisfaction</th>\n",
       "      <th>JobSatisfaction</th>\n",
       "      <th>HoursPerWeek</th>\n",
       "      <th>StackOverflowSatisfaction</th>\n",
       "      <th>ExpectedSalary</th>\n",
       "    </tr>\n",
       "  </thead>\n",
       "  <tbody>\n",
       "    <tr>\n",
       "      <th>count</th>\n",
       "      <td>9633.000000</td>\n",
       "      <td>9626.000000</td>\n",
       "      <td>4057.000000</td>\n",
       "      <td>9116.00000</td>\n",
       "      <td>0.0</td>\n",
       "    </tr>\n",
       "    <tr>\n",
       "      <th>mean</th>\n",
       "      <td>7.589640</td>\n",
       "      <td>7.075421</td>\n",
       "      <td>2.122751</td>\n",
       "      <td>8.47093</td>\n",
       "      <td>NaN</td>\n",
       "    </tr>\n",
       "    <tr>\n",
       "      <th>std</th>\n",
       "      <td>1.642107</td>\n",
       "      <td>2.081090</td>\n",
       "      <td>4.428449</td>\n",
       "      <td>1.32528</td>\n",
       "      <td>NaN</td>\n",
       "    </tr>\n",
       "    <tr>\n",
       "      <th>min</th>\n",
       "      <td>0.000000</td>\n",
       "      <td>0.000000</td>\n",
       "      <td>0.000000</td>\n",
       "      <td>0.00000</td>\n",
       "      <td>NaN</td>\n",
       "    </tr>\n",
       "    <tr>\n",
       "      <th>25%</th>\n",
       "      <td>7.000000</td>\n",
       "      <td>6.000000</td>\n",
       "      <td>0.000000</td>\n",
       "      <td>8.00000</td>\n",
       "      <td>NaN</td>\n",
       "    </tr>\n",
       "    <tr>\n",
       "      <th>50%</th>\n",
       "      <td>8.000000</td>\n",
       "      <td>7.000000</td>\n",
       "      <td>1.000000</td>\n",
       "      <td>9.00000</td>\n",
       "      <td>NaN</td>\n",
       "    </tr>\n",
       "    <tr>\n",
       "      <th>75%</th>\n",
       "      <td>9.000000</td>\n",
       "      <td>9.000000</td>\n",
       "      <td>2.000000</td>\n",
       "      <td>10.00000</td>\n",
       "      <td>NaN</td>\n",
       "    </tr>\n",
       "    <tr>\n",
       "      <th>max</th>\n",
       "      <td>10.000000</td>\n",
       "      <td>10.000000</td>\n",
       "      <td>40.000000</td>\n",
       "      <td>10.00000</td>\n",
       "      <td>NaN</td>\n",
       "    </tr>\n",
       "  </tbody>\n",
       "</table>\n",
       "</div>"
      ],
      "text/plain": [
       "       CareerSatisfaction  JobSatisfaction  HoursPerWeek  \\\n",
       "count         9633.000000      9626.000000   4057.000000   \n",
       "mean             7.589640         7.075421      2.122751   \n",
       "std              1.642107         2.081090      4.428449   \n",
       "min              0.000000         0.000000      0.000000   \n",
       "25%              7.000000         6.000000      0.000000   \n",
       "50%              8.000000         7.000000      1.000000   \n",
       "75%              9.000000         9.000000      2.000000   \n",
       "max             10.000000        10.000000     40.000000   \n",
       "\n",
       "       StackOverflowSatisfaction  ExpectedSalary  \n",
       "count                 9116.00000             0.0  \n",
       "mean                     8.47093             NaN  \n",
       "std                      1.32528             NaN  \n",
       "min                      0.00000             NaN  \n",
       "25%                      8.00000             NaN  \n",
       "50%                      9.00000             NaN  \n",
       "75%                     10.00000             NaN  \n",
       "max                     10.00000             NaN  "
      ]
     },
     "execution_count": 98,
     "metadata": {},
     "output_type": "execute_result"
    }
   ],
   "source": [
    "# the missing numeric vars\n",
    "num_vars = data.select_dtypes(include=['float', 'int']).columns\n",
    "print('{} nemeric vars having missing values'.format(data[num_vars].isnull().any().sum()))\n",
    "series = data[num_vars].isnull().any()\n",
    "missing_num_vars = list(series[series>0].index)\n",
    "\n",
    "#how many num lost?\n",
    "data[missing_num_vars].describe()"
   ]
  },
  {
   "cell_type": "markdown",
   "metadata": {
    "id": "b226870a-5ba7-47e0-b624-305482dfa89f"
   },
   "source": [
    "Data Clean:\n",
    "- The column 'Salary' is what we are trying to predict, so we shoul make it the target and delete it from the features\n",
    "- The Respondent is useless for predicting the salary, so we delete it too. As we want a predicted salary so the expected salary is not useful.\n",
    "- for those numeric columns having missing values, then we can try to use the average num to fill them.\n",
    "- Using one hot coding will make the distance calculation between features more reasonable.So we create dummy variables for working with categorical variables"
   ]
  },
  {
   "cell_type": "code",
   "execution_count": 99,
   "metadata": {
    "id": "e8e121e4-9798-4458-a181-6bd30cd58d2d"
   },
   "outputs": [],
   "source": [
    "def clean_data(df):\n",
    "    \"\"\"\n",
    "    Description: This function can be used to a dataframe and return the X and y for maching learning.\n",
    "\n",
    "    Arguments:\n",
    "        df: pandas dataframe with all data. \n",
    "\n",
    "    Returns:\n",
    "        X: the variables\n",
    "        y: the lable\n",
    "    \"\"\"\n",
    "    # Drop rows with missing salary values\n",
    "    df = df.dropna(subset=['Salary'], axis=0)\n",
    "    y = df['Salary']\n",
    "    \n",
    "    #Drop respondent and expected salary columns\n",
    "    df = df.drop(['Respondent', 'ExpectedSalary', 'Salary'], axis=1)\n",
    "    \n",
    "    # Fill numeric columns with the mean\n",
    "    num_vars = df.select_dtypes(include=['float', 'int']).columns\n",
    "    for col in num_vars:\n",
    "        df[col].fillna((df[col].mean()), inplace=True)\n",
    "        \n",
    "    # Dummy the categorical variables\n",
    "    cat_vars = df.select_dtypes(include=['object']).copy().columns\n",
    "    for var in  cat_vars:\n",
    "        # for each cat add dummy var, drop original column\n",
    "        df = pd.concat([df.drop(var, axis=1), pd.get_dummies(df[var], prefix=var, prefix_sep='_', drop_first=True)], axis=1)\n",
    "    \n",
    "    X = df\n",
    "    return X, y\n",
    "    \n",
    "#Use the function to create X and y\n",
    "X, y = clean_data(data)    "
   ]
  },
  {
   "cell_type": "markdown",
   "metadata": {
    "id": "5174e610-9de6-4f90-9468-b0c0fdb74766"
   },
   "source": [
    "# Data Modeling"
   ]
  },
  {
   "cell_type": "markdown",
   "metadata": {
    "id": "a1df586c-477e-461e-8a35-ada555ee2869"
   },
   "source": [
    "## Measurement"
   ]
  },
  {
   "cell_type": "code",
   "execution_count": 100,
   "metadata": {
    "id": "365f6bc7-76b3-4e38-9e21-f8160ce97454"
   },
   "outputs": [],
   "source": [
    "#measurement\n",
    "def rmspe(y, yhat):\n",
    "    \"\"\"\n",
    "    Description: This function can be used to create the RMSPE.\n",
    "\n",
    "    Arguments:\n",
    "        y: the true values. \n",
    "        yhat: the predicted values. \n",
    "    Returns:\n",
    "        the value of rmspe\n",
    "    \"\"\"   \n",
    "    return np.sqrt(np.mean((yhat/y-1) ** 2))\n",
    "\n",
    "def rmspe_xg(yhat, y):\n",
    "    \"\"\"\n",
    "    Description: This function can be used to create the RMSPE with xgboost model.\n",
    "\n",
    "    Arguments:\n",
    "        y: the result of xgboost model. \n",
    "        yhat: the predicted values. \n",
    "    Returns:\n",
    "        the value of rmspe\n",
    "    \"\"\"       \n",
    "    y = y.get_label()\n",
    "    return \"rmspe\", rmspe(y, yhat)"
   ]
  },
  {
   "cell_type": "code",
   "execution_count": 101,
   "metadata": {
    "id": "65c1cf62-73d1-407e-887d-1b8a1296208a"
   },
   "outputs": [],
   "source": [
    "#data split\n",
    "from sklearn.model_selection import train_test_split\n",
    "\n",
    "X_train, X_test, y_train, y_test = train_test_split(X, y, test_size=0.2)"
   ]
  },
  {
   "cell_type": "markdown",
   "metadata": {
    "id": "06264370-2e22-47fb-bc56-cb2a16f3e969"
   },
   "source": [
    "## Base Model - RamdomForestRegressor"
   ]
  },
  {
   "cell_type": "code",
   "execution_count": 102,
   "metadata": {
    "id": "33b9153c-7584-43b6-b048-c0e369b99419"
   },
   "outputs": [
    {
     "name": "stdout",
     "output_type": "stream",
     "text": [
      "RMSPE: 0.3390\n",
      "Time Cost：84seconds\n",
      "Model saved：RandomForest\n"
     ]
    }
   ],
   "source": [
    "#Random Forest Model\n",
    "from sklearn.ensemble import RandomForestRegressor\n",
    "\n",
    "#start time\n",
    "s_time = dt.datetime.now()\n",
    "\n",
    "#fit the model\n",
    "rfr = RandomForestRegressor(n_estimators = 15)\n",
    "rfr.fit(X_train, y_train)\n",
    "\n",
    "#mesurement\n",
    "y_pred = rfr.predict(X_test)\n",
    "error = rmspe(y_test, y_pred)\n",
    "print('RMSPE: {:.4f}'.format(error))\n",
    "\n",
    "#end time\n",
    "e_time = dt.datetime.now()\n",
    "print('Time Cost：{}seconds'.format((e_time-s_time).seconds))\n",
    "\n",
    "#save the model\n",
    "joblib.dump(rfr, 'saved_model/RandomForest.pkl')\n",
    "print('Model saved：{}'.format('RandomForest'))"
   ]
  },
  {
   "cell_type": "code",
   "execution_count": 103,
   "metadata": {
    "id": "6472487d-4e77-48bb-b55c-92d66a96105b"
   },
   "outputs": [],
   "source": [
    "# t = pd.DataFrame({'y':y_test, 'pred':y_pred})\r\n",
    "# t['error'] = (t['pred']/t['y']-1)**2\r\n",
    "# t.sort_values('error', ascending=False)"
   ]
  },
  {
   "cell_type": "code",
   "execution_count": 104,
   "metadata": {
    "id": "c816bb59-670c-4dc7-8a60-4ac91869660a"
   },
   "outputs": [
    {
     "data": {
      "image/png": "[encoded data removed]",
      "text/plain": [
       "<Figure size 432x288 with 1 Axes>"
      ]
     },
     "metadata": {
      "needs_background": "light"
     },
     "output_type": "display_data"
    }
   ],
   "source": [
    "# The most important 10 features\n",
    "feat_importances = pd.Series(rfr.feature_importances_, index=X_train.columns)\n",
    "feat_importances.nlargest(10).sort_values(ascending = True).plot(kind='barh')\n",
    "plt.xlabel('importance')\n",
    "plt.title('Feature Importance');"
   ]
  },
  {
   "cell_type": "markdown",
   "metadata": {
    "id": "f93d190b-2c97-42c4-9692-719230a7654c"
   },
   "source": [
    "## XGB Model"
   ]
  },
  {
   "cell_type": "code",
   "execution_count": 105,
   "metadata": {
    "id": "e1d87675-2780-48a0-9e3e-5f7259773d29"
   },
   "outputs": [
    {
     "name": "stdout",
     "output_type": "stream",
     "text": [
      "[0]\ttrain-rmse:71975.97656\ttest-rmse:70990.38281\ttrain-rmspe:0.89282\ttest-rmspe:0.89108\n",
      "Multiple eval metrics have been passed: 'test-rmspe' will be used for early stopping.\n",
      "\n",
      "Will train until test-rmspe hasn't improved in 100 rounds.\n",
      "[1]\ttrain-rmse:65516.61719\ttest-rmse:64635.08984\ttrain-rmspe:0.79753\ttest-rmspe:0.79411\n",
      "[2]\ttrain-rmse:59726.50391\ttest-rmse:58973.78906\ttrain-rmspe:0.71314\ttest-rmspe:0.70848\n",
      "[3]\ttrain-rmse:54572.15625\ttest-rmse:53870.22266\ttrain-rmspe:0.63800\ttest-rmspe:0.63248\n",
      "[4]\ttrain-rmse:49995.42188\ttest-rmse:49418.96094\ttrain-rmspe:0.57133\ttest-rmspe:0.56630\n",
      "[5]\ttrain-rmse:45897.64062\ttest-rmse:45442.04688\ttrain-rmspe:0.51297\ttest-rmspe:0.50830\n",
      "[6]\ttrain-rmse:42201.25391\ttest-rmse:41954.86719\ttrain-rmspe:0.46255\ttest-rmspe:0.46005\n",
      "[7]\ttrain-rmse:38922.23047\ttest-rmse:38893.45312\ttrain-rmspe:0.41879\ttest-rmspe:0.41991\n",
      "[8]\ttrain-rmse:36001.70703\ttest-rmse:36194.98438\ttrain-rmspe:0.38085\ttest-rmspe:0.38651\n",
      "[9]\ttrain-rmse:33368.49609\ttest-rmse:33841.48438\ttrain-rmspe:0.34833\ttest-rmspe:0.35895\n",
      "[10]\ttrain-rmse:31067.59570\ttest-rmse:31805.97852\ttrain-rmspe:0.32105\ttest-rmspe:0.33721\n",
      "[11]\ttrain-rmse:29028.93359\ttest-rmse:30061.80859\ttrain-rmspe:0.29840\ttest-rmspe:0.32106\n",
      "[12]\ttrain-rmse:27183.50977\ttest-rmse:28567.49805\ttrain-rmspe:0.27987\ttest-rmspe:0.30988\n",
      "[13]\ttrain-rmse:25559.07031\ttest-rmse:27237.14648\ttrain-rmspe:0.26468\ttest-rmspe:0.30123\n",
      "[14]\ttrain-rmse:24067.67969\ttest-rmse:26135.33008\ttrain-rmspe:0.25212\ttest-rmspe:0.29544\n",
      "[15]\ttrain-rmse:22812.52539\ttest-rmse:25118.13672\ttrain-rmspe:0.24228\ttest-rmspe:0.29120\n",
      "[16]\ttrain-rmse:21644.42773\ttest-rmse:24285.24414\ttrain-rmspe:0.23454\ttest-rmspe:0.28959\n",
      "[17]\ttrain-rmse:20668.18164\ttest-rmse:23599.52930\ttrain-rmspe:0.22936\ttest-rmspe:0.28960\n",
      "[18]\ttrain-rmse:19737.63867\ttest-rmse:23054.32422\ttrain-rmspe:0.22534\ttest-rmspe:0.29157\n",
      "[19]\ttrain-rmse:18888.71094\ttest-rmse:22544.08984\ttrain-rmspe:0.22159\ttest-rmspe:0.29283\n",
      "[20]\ttrain-rmse:18182.98438\ttest-rmse:22168.72461\ttrain-rmspe:0.21960\ttest-rmspe:0.29565\n",
      "[21]\ttrain-rmse:17496.50000\ttest-rmse:21857.81641\ttrain-rmspe:0.21765\ttest-rmspe:0.29758\n",
      "[22]\ttrain-rmse:16922.52930\ttest-rmse:21581.61133\ttrain-rmspe:0.21619\ttest-rmspe:0.29996\n",
      "[23]\ttrain-rmse:16399.83008\ttest-rmse:21311.15234\ttrain-rmspe:0.21480\ttest-rmspe:0.30181\n",
      "[24]\ttrain-rmse:15921.77539\ttest-rmse:21090.73438\ttrain-rmspe:0.21312\ttest-rmspe:0.30412\n",
      "[25]\ttrain-rmse:15489.60547\ttest-rmse:20898.14258\ttrain-rmspe:0.21261\ttest-rmspe:0.30599\n",
      "[26]\ttrain-rmse:15107.25684\ttest-rmse:20751.94922\ttrain-rmspe:0.21248\ttest-rmspe:0.30823\n",
      "[27]\ttrain-rmse:14766.82812\ttest-rmse:20605.35547\ttrain-rmspe:0.21221\ttest-rmspe:0.30974\n",
      "[28]\ttrain-rmse:14508.85840\ttest-rmse:20497.30273\ttrain-rmspe:0.21231\ttest-rmspe:0.31128\n",
      "[29]\ttrain-rmse:14256.66406\ttest-rmse:20394.72656\ttrain-rmspe:0.21163\ttest-rmspe:0.31239\n",
      "[30]\ttrain-rmse:13965.99512\ttest-rmse:20318.74023\ttrain-rmspe:0.21118\ttest-rmspe:0.31418\n",
      "[31]\ttrain-rmse:13691.38769\ttest-rmse:20240.86133\ttrain-rmspe:0.21024\ttest-rmspe:0.31551\n",
      "[32]\ttrain-rmse:13506.16211\ttest-rmse:20183.68945\ttrain-rmspe:0.20995\ttest-rmspe:0.31707\n",
      "[33]\ttrain-rmse:13324.83301\ttest-rmse:20126.18750\ttrain-rmspe:0.20980\ttest-rmspe:0.31825\n",
      "[34]\ttrain-rmse:13125.44922\ttest-rmse:20064.82617\ttrain-rmspe:0.20919\ttest-rmspe:0.31954\n",
      "[35]\ttrain-rmse:12949.35938\ttest-rmse:20018.36719\ttrain-rmspe:0.20851\ttest-rmspe:0.32061\n",
      "[36]\ttrain-rmse:12743.88477\ttest-rmse:19966.10547\ttrain-rmspe:0.20749\ttest-rmspe:0.32174\n",
      "[37]\ttrain-rmse:12540.70215\ttest-rmse:19926.98047\ttrain-rmspe:0.20627\ttest-rmspe:0.32254\n",
      "[38]\ttrain-rmse:12304.03418\ttest-rmse:19875.64648\ttrain-rmspe:0.20446\ttest-rmspe:0.32331\n",
      "[39]\ttrain-rmse:12121.89844\ttest-rmse:19840.71289\ttrain-rmspe:0.20258\ttest-rmspe:0.32380\n",
      "[40]\ttrain-rmse:11988.24707\ttest-rmse:19815.18750\ttrain-rmspe:0.20109\ttest-rmspe:0.32420\n",
      "[41]\ttrain-rmse:11867.49414\ttest-rmse:19785.93750\ttrain-rmspe:0.20015\ttest-rmspe:0.32411\n",
      "[42]\ttrain-rmse:11758.04102\ttest-rmse:19752.88867\ttrain-rmspe:0.19905\ttest-rmspe:0.32388\n",
      "[43]\ttrain-rmse:11659.25879\ttest-rmse:19729.93750\ttrain-rmspe:0.19829\ttest-rmspe:0.32424\n",
      "[44]\ttrain-rmse:11536.53418\ttest-rmse:19659.20312\ttrain-rmspe:0.19645\ttest-rmspe:0.32346\n",
      "[45]\ttrain-rmse:11410.69531\ttest-rmse:19640.79102\ttrain-rmspe:0.19503\ttest-rmspe:0.32373\n",
      "[46]\ttrain-rmse:11271.18066\ttest-rmse:19616.88086\ttrain-rmspe:0.19357\ttest-rmspe:0.32366\n",
      "[47]\ttrain-rmse:11192.93359\ttest-rmse:19613.54492\ttrain-rmspe:0.19266\ttest-rmspe:0.32422\n",
      "[48]\ttrain-rmse:11120.05371\ttest-rmse:19585.30664\ttrain-rmspe:0.19184\ttest-rmspe:0.32402\n",
      "[49]\ttrain-rmse:11047.86231\ttest-rmse:19574.55664\ttrain-rmspe:0.19108\ttest-rmspe:0.32445\n",
      "[50]\ttrain-rmse:10945.10742\ttest-rmse:19567.52344\ttrain-rmspe:0.18936\ttest-rmspe:0.32469\n",
      "[51]\ttrain-rmse:10841.20019\ttest-rmse:19557.69922\ttrain-rmspe:0.18804\ttest-rmspe:0.32445\n",
      "[52]\ttrain-rmse:10775.76465\ttest-rmse:19531.10547\ttrain-rmspe:0.18695\ttest-rmspe:0.32411\n",
      "[53]\ttrain-rmse:10696.83106\ttest-rmse:19519.42578\ttrain-rmspe:0.18586\ttest-rmspe:0.32403\n",
      "[54]\ttrain-rmse:10660.29688\ttest-rmse:19499.80273\ttrain-rmspe:0.18495\ttest-rmspe:0.32344\n",
      "[55]\ttrain-rmse:10596.55859\ttest-rmse:19477.86719\ttrain-rmspe:0.18382\ttest-rmspe:0.32278\n",
      "[56]\ttrain-rmse:10517.81152\ttest-rmse:19462.67188\ttrain-rmspe:0.18246\ttest-rmspe:0.32256\n",
      "[57]\ttrain-rmse:10439.90137\ttest-rmse:19437.96289\ttrain-rmspe:0.18085\ttest-rmspe:0.32183\n",
      "[58]\ttrain-rmse:10348.06543\ttest-rmse:19433.14648\ttrain-rmspe:0.17971\ttest-rmspe:0.32178\n",
      "[59]\ttrain-rmse:10242.94922\ttest-rmse:19419.73828\ttrain-rmspe:0.17799\ttest-rmspe:0.32136\n",
      "[60]\ttrain-rmse:10118.15039\ttest-rmse:19407.35547\ttrain-rmspe:0.17609\ttest-rmspe:0.32136\n",
      "[61]\ttrain-rmse:10012.87891\ttest-rmse:19404.34375\ttrain-rmspe:0.17469\ttest-rmspe:0.32138\n",
      "[62]\ttrain-rmse:9967.84082\ttest-rmse:19392.86914\ttrain-rmspe:0.17396\ttest-rmspe:0.32122\n",
      "[63]\ttrain-rmse:9908.05176\ttest-rmse:19388.25977\ttrain-rmspe:0.17294\ttest-rmspe:0.32138\n",
      "[64]\ttrain-rmse:9877.65332\ttest-rmse:19376.94531\ttrain-rmspe:0.17193\ttest-rmspe:0.32084\n",
      "[65]\ttrain-rmse:9817.05469\ttest-rmse:19373.91406\ttrain-rmspe:0.17097\ttest-rmspe:0.32072\n",
      "[66]\ttrain-rmse:9730.38574\ttest-rmse:19355.86328\ttrain-rmspe:0.16979\ttest-rmspe:0.32062\n",
      "[67]\ttrain-rmse:9685.04004\ttest-rmse:19351.20312\ttrain-rmspe:0.16899\ttest-rmspe:0.32050\n",
      "[68]\ttrain-rmse:9624.92773\ttest-rmse:19353.58398\ttrain-rmspe:0.16787\ttest-rmspe:0.32066\n",
      "[69]\ttrain-rmse:9588.38574\ttest-rmse:19342.88867\ttrain-rmspe:0.16714\ttest-rmspe:0.32043\n",
      "[70]\ttrain-rmse:9547.51953\ttest-rmse:19322.54102\ttrain-rmspe:0.16651\ttest-rmspe:0.32006\n",
      "[71]\ttrain-rmse:9478.80664\ttest-rmse:19304.76758\ttrain-rmspe:0.16547\ttest-rmspe:0.31956\n",
      "[72]\ttrain-rmse:9456.08203\ttest-rmse:19301.10352\ttrain-rmspe:0.16501\ttest-rmspe:0.31949\n",
      "[73]\ttrain-rmse:9415.56934\ttest-rmse:19296.87500\ttrain-rmspe:0.16434\ttest-rmspe:0.31934\n",
      "[74]\ttrain-rmse:9344.23633\ttest-rmse:19286.64062\ttrain-rmspe:0.16320\ttest-rmspe:0.31916\n",
      "[75]\ttrain-rmse:9310.59766\ttest-rmse:19285.13281\ttrain-rmspe:0.16248\ttest-rmspe:0.31910\n",
      "[76]\ttrain-rmse:9268.53223\ttest-rmse:19286.15234\ttrain-rmspe:0.16187\ttest-rmspe:0.31920\n",
      "[77]\ttrain-rmse:9201.24805\ttest-rmse:19283.15430\ttrain-rmspe:0.16084\ttest-rmspe:0.31898\n",
      "[78]\ttrain-rmse:9128.08594\ttest-rmse:19290.29102\ttrain-rmspe:0.15973\ttest-rmspe:0.31909\n",
      "[79]\ttrain-rmse:9107.60840\ttest-rmse:19282.75977\ttrain-rmspe:0.15928\ttest-rmspe:0.31880\n",
      "[80]\ttrain-rmse:9083.90430\ttest-rmse:19273.63086\ttrain-rmspe:0.15865\ttest-rmspe:0.31853\n",
      "[81]\ttrain-rmse:9038.73535\ttest-rmse:19266.24609\ttrain-rmspe:0.15790\ttest-rmspe:0.31834\n",
      "[82]\ttrain-rmse:9024.65820\ttest-rmse:19261.27539\ttrain-rmspe:0.15765\ttest-rmspe:0.31823\n",
      "[83]\ttrain-rmse:8975.45898\ttest-rmse:19246.83398\ttrain-rmspe:0.15669\ttest-rmspe:0.31771\n",
      "[84]\ttrain-rmse:8919.61035\ttest-rmse:19244.06641\ttrain-rmspe:0.15577\ttest-rmspe:0.31748\n",
      "[85]\ttrain-rmse:8875.51367\ttest-rmse:19237.01758\ttrain-rmspe:0.15498\ttest-rmspe:0.31742\n",
      "[86]\ttrain-rmse:8826.60547\ttest-rmse:19235.52148\ttrain-rmspe:0.15417\ttest-rmspe:0.31731\n",
      "[87]\ttrain-rmse:8791.06738\ttest-rmse:19229.51953\ttrain-rmspe:0.15359\ttest-rmspe:0.31735\n",
      "[88]\ttrain-rmse:8762.87012\ttest-rmse:19230.20703\ttrain-rmspe:0.15305\ttest-rmspe:0.31725\n",
      "[89]\ttrain-rmse:8711.77344\ttest-rmse:19229.34766\ttrain-rmspe:0.15214\ttest-rmspe:0.31714\n",
      "[90]\ttrain-rmse:8669.71094\ttest-rmse:19225.27930\ttrain-rmspe:0.15144\ttest-rmspe:0.31721\n",
      "[91]\ttrain-rmse:8631.46094\ttest-rmse:19216.97070\ttrain-rmspe:0.15081\ttest-rmspe:0.31707\n",
      "[92]\ttrain-rmse:8572.21777\ttest-rmse:19212.66211\ttrain-rmspe:0.14999\ttest-rmspe:0.31690\n",
      "[93]\ttrain-rmse:8528.51660\ttest-rmse:19217.12500\ttrain-rmspe:0.14928\ttest-rmspe:0.31719\n",
      "[94]\ttrain-rmse:8454.14258\ttest-rmse:19209.28906\ttrain-rmspe:0.14775\ttest-rmspe:0.31682\n",
      "[95]\ttrain-rmse:8427.44531\ttest-rmse:19199.58789\ttrain-rmspe:0.14719\ttest-rmspe:0.31644\n",
      "[96]\ttrain-rmse:8407.02051\ttest-rmse:19193.94727\ttrain-rmspe:0.14684\ttest-rmspe:0.31642\n",
      "[97]\ttrain-rmse:8377.33106\ttest-rmse:19189.14258\ttrain-rmspe:0.14637\ttest-rmspe:0.31638\n",
      "[98]\ttrain-rmse:8346.70898\ttest-rmse:19190.00000\ttrain-rmspe:0.14588\ttest-rmspe:0.31630\n",
      "[99]\ttrain-rmse:8309.63086\ttest-rmse:19187.08984\ttrain-rmspe:0.14539\ttest-rmspe:0.31608\n",
      "[100]\ttrain-rmse:8292.52734\ttest-rmse:19184.18164\ttrain-rmspe:0.14487\ttest-rmspe:0.31589\n",
      "[101]\ttrain-rmse:8262.90625\ttest-rmse:19181.14062\ttrain-rmspe:0.14414\ttest-rmspe:0.31570\n",
      "[102]\ttrain-rmse:8233.16113\ttest-rmse:19177.85938\ttrain-rmspe:0.14349\ttest-rmspe:0.31551\n",
      "[103]\ttrain-rmse:8198.56836\ttest-rmse:19167.53320\ttrain-rmspe:0.14291\ttest-rmspe:0.31535\n",
      "[104]\ttrain-rmse:8175.91406\ttest-rmse:19160.62500\ttrain-rmspe:0.14235\ttest-rmspe:0.31519\n",
      "[105]\ttrain-rmse:8137.63232\ttest-rmse:19155.38281\ttrain-rmspe:0.14168\ttest-rmspe:0.31515\n",
      "[106]\ttrain-rmse:8114.31397\ttest-rmse:19156.87109\ttrain-rmspe:0.14131\ttest-rmspe:0.31516\n",
      "[107]\ttrain-rmse:8080.69092\ttest-rmse:19154.31641\ttrain-rmspe:0.14086\ttest-rmspe:0.31506\n",
      "[108]\ttrain-rmse:8053.55371\ttest-rmse:19156.64258\ttrain-rmspe:0.14029\ttest-rmspe:0.31508\n",
      "[109]\ttrain-rmse:8034.96533\ttest-rmse:19152.66602\ttrain-rmspe:0.13991\ttest-rmspe:0.31498\n",
      "[110]\ttrain-rmse:8025.39893\ttest-rmse:19153.21875\ttrain-rmspe:0.13972\ttest-rmspe:0.31499\n",
      "[111]\ttrain-rmse:8011.84180\ttest-rmse:19151.73828\ttrain-rmspe:0.13953\ttest-rmspe:0.31498\n",
      "[112]\ttrain-rmse:7951.06055\ttest-rmse:19147.58984\ttrain-rmspe:0.13878\ttest-rmspe:0.31489\n",
      "[113]\ttrain-rmse:7912.44824\ttest-rmse:19150.30664\ttrain-rmspe:0.13814\ttest-rmspe:0.31472\n",
      "[114]\ttrain-rmse:7884.56641\ttest-rmse:19151.94336\ttrain-rmspe:0.13773\ttest-rmspe:0.31472\n",
      "[115]\ttrain-rmse:7858.43213\ttest-rmse:19148.50000\ttrain-rmspe:0.13732\ttest-rmspe:0.31458\n",
      "[116]\ttrain-rmse:7832.56738\ttest-rmse:19143.27148\ttrain-rmspe:0.13695\ttest-rmspe:0.31446\n",
      "Stopping. Best iteration:\n",
      "[16]\ttrain-rmse:21644.42773\ttest-rmse:24285.24414\ttrain-rmspe:0.23454\ttest-rmspe:0.28959\n",
      "\n",
      "RMSPE: 0.3145\n",
      "time cost：1222seconds\n",
      "Model Saved：xgb\n"
     ]
    }
   ],
   "source": [
    "import xgboost as xgb\n",
    "\n",
    "#start time\n",
    "s_time = dt.datetime.now()\n",
    "\n",
    "params = {\"objective\": \"reg:linear\", \n",
    "          \"booster\" : \"gbtree\", \n",
    "          \"eta\": 0.1,\n",
    "          \"max_depth\": 10,\n",
    "          \"subsample\": 0.9, \n",
    "          \"colsample_bytree\": 0.7,\n",
    "          \"silent\": 1,\n",
    "          \"seed\": 10\n",
    "          }\n",
    "#num of train times\n",
    "num_boost_round = 4000\n",
    "\n",
    "dtrain = xgb.DMatrix(X_train, y_train)\n",
    "dtest = xgb.DMatrix(X_test, y_test)\n",
    "watchlist = [(dtrain, 'train'), (dtest, 'test')]\n",
    "\n",
    "#fit the model\n",
    "model = xgb.train(params, dtrain, num_boost_round, evals=watchlist, \\\n",
    "  early_stopping_rounds= 100, feval=rmspe_xg, verbose_eval=True)\n",
    "\n",
    "#measurement\n",
    "y_pred = model.predict(dtest)\n",
    "error = rmspe(y_test, y_pred)\n",
    "print('RMSPE: {:.4f}'.format(error))\n",
    "\n",
    "#end time\n",
    "e_time = dt.datetime.now()\n",
    "print('time cost：{}seconds'.format((e_time-s_time).seconds))\n",
    "\n",
    "#save model\n",
    "joblib.dump(model, 'saved_model/xgb.pkl')\n",
    "print('Model Saved：{}'.format('xgb'))"
   ]
  },
  {
   "cell_type": "markdown",
   "metadata": {
    "id": "8159c98e-b2f1-408b-8cef-5d941bc83a28"
   },
   "source": [
    "# Evaluate the Results"
   ]
  },
  {
   "cell_type": "markdown",
   "metadata": {
    "id": "1c014bbc-b542-48fe-b025-1f1b2ae0788e"
   },
   "source": [
    "Although the result from xgboost is better than random forest, But the best error result from xgboost is 0.31.This is not good enough to predict the salary, so we may need to reconsider the data and adjust the model."
   ]
  },
  {
   "cell_type": "code",
   "execution_count": null,
   "metadata": {
    "id": "5f5ae174-4d70-43a9-aa2e-a22ccc4550c9"
   },
   "outputs": [],
   "source": []
  }
 ],
 "metadata": {
  "kernelspec": {
   "display_name": "Python 3",
   "language": "python",
   "name": "python3"
  },
  "language_info": {
   "codemirror_mode": {
    "name": "ipython",
    "version": 3
   },
   "file_extension": ".py",
   "mimetype": "text/x-python",
   "name": "python",
   "nbconvert_exporter": "python",
   "pygments_lexer": "ipython3",
   "version": "3.7.5"
  },
  "toc": {
   "base_numbering": 1,
   "nav_menu": {},
   "number_sections": true,
   "sideBar": true,
   "skip_h1_title": false,
   "title_cell": "Table of Contents",
   "title_sidebar": "Contents",
   "toc_cell": false,
   "toc_position": {
    "height": "calc(100% - 180px)",
    "left": "10px",
    "top": "150px",
    "width": "273.188px"
   },
   "toc_section_display": true,
   "toc_window_display": true
  },
  "varInspector": {
   "cols": {
    "lenName": 16,
    "lenType": 16,
    "lenVar": 40
   },
   "kernels_config": {
    "python": {
     "delete_cmd_postfix": "",
     "delete_cmd_prefix": "del ",
     "library": "var_list.py",
     "varRefreshCmd": "print(var_dic_list())"
    },
    "r": {
     "delete_cmd_postfix": ") ",
     "delete_cmd_prefix": "rm(",
     "library": "var_list.r",
     "varRefreshCmd": "cat(var_dic_list()) "
    }
   },
   "types_to_exclude": [
    "module",
    "function",
    "builtin_function_or_method",
    "instance",
    "_Feature"
   ],
   "window_display": false
  }
 },
 "nbformat": 4,
 "nbformat_minor": 2
}
