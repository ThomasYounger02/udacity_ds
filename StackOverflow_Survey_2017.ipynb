{
 "cells": [
  {
   "cell_type": "code",
   "execution_count": 1,
   "metadata": {},
   "outputs": [],
   "source": [
    "import numpy as np\n",
    "import pandas as pd\n",
    "import datetime as dt\n",
    "\n",
    "#作图\n",
    "import matplotlib.pyplot as plt\n",
    "import seaborn as sns\n",
    "%matplotlib inline\n",
    "\n",
    "#保存模型\n",
    "import joblib\n",
    "\n",
    "import warnings\n",
    "warnings.filterwarnings('ignore')"
   ]
  },
  {
   "cell_type": "markdown",
   "metadata": {},
   "source": [
    "# Data"
   ]
  },
  {
   "cell_type": "code",
   "execution_count": 2,
   "metadata": {},
   "outputs": [
    {
     "data": {
      "text/html": [
       "<div>\n",
       "<style scoped>\n",
       "    .dataframe tbody tr th:only-of-type {\n",
       "        vertical-align: middle;\n",
       "    }\n",
       "\n",
       "    .dataframe tbody tr th {\n",
       "        vertical-align: top;\n",
       "    }\n",
       "\n",
       "    .dataframe thead th {\n",
       "        text-align: right;\n",
       "    }\n",
       "</style>\n",
       "<table border=\"1\" class=\"dataframe\">\n",
       "  <thead>\n",
       "    <tr style=\"text-align: right;\">\n",
       "      <th></th>\n",
       "      <th>Respondent</th>\n",
       "      <th>Professional</th>\n",
       "      <th>ProgramHobby</th>\n",
       "      <th>Country</th>\n",
       "      <th>University</th>\n",
       "      <th>EmploymentStatus</th>\n",
       "      <th>FormalEducation</th>\n",
       "      <th>MajorUndergrad</th>\n",
       "      <th>HomeRemote</th>\n",
       "      <th>CompanySize</th>\n",
       "      <th>...</th>\n",
       "      <th>StackOverflowMakeMoney</th>\n",
       "      <th>Gender</th>\n",
       "      <th>HighestEducationParents</th>\n",
       "      <th>Race</th>\n",
       "      <th>SurveyLong</th>\n",
       "      <th>QuestionsInteresting</th>\n",
       "      <th>QuestionsConfusing</th>\n",
       "      <th>InterestedAnswers</th>\n",
       "      <th>Salary</th>\n",
       "      <th>ExpectedSalary</th>\n",
       "    </tr>\n",
       "  </thead>\n",
       "  <tbody>\n",
       "    <tr>\n",
       "      <th>0</th>\n",
       "      <td>1</td>\n",
       "      <td>Student</td>\n",
       "      <td>Yes, both</td>\n",
       "      <td>United States</td>\n",
       "      <td>No</td>\n",
       "      <td>Not employed, and not looking for work</td>\n",
       "      <td>Secondary school</td>\n",
       "      <td>NaN</td>\n",
       "      <td>NaN</td>\n",
       "      <td>NaN</td>\n",
       "      <td>...</td>\n",
       "      <td>Strongly disagree</td>\n",
       "      <td>Male</td>\n",
       "      <td>High school</td>\n",
       "      <td>White or of European descent</td>\n",
       "      <td>Strongly disagree</td>\n",
       "      <td>Strongly agree</td>\n",
       "      <td>Disagree</td>\n",
       "      <td>Strongly agree</td>\n",
       "      <td>NaN</td>\n",
       "      <td>NaN</td>\n",
       "    </tr>\n",
       "    <tr>\n",
       "      <th>1</th>\n",
       "      <td>2</td>\n",
       "      <td>Student</td>\n",
       "      <td>Yes, both</td>\n",
       "      <td>United Kingdom</td>\n",
       "      <td>Yes, full-time</td>\n",
       "      <td>Employed part-time</td>\n",
       "      <td>Some college/university study without earning ...</td>\n",
       "      <td>Computer science or software engineering</td>\n",
       "      <td>More than half, but not all, the time</td>\n",
       "      <td>20 to 99 employees</td>\n",
       "      <td>...</td>\n",
       "      <td>Strongly disagree</td>\n",
       "      <td>Male</td>\n",
       "      <td>A master's degree</td>\n",
       "      <td>White or of European descent</td>\n",
       "      <td>Somewhat agree</td>\n",
       "      <td>Somewhat agree</td>\n",
       "      <td>Disagree</td>\n",
       "      <td>Strongly agree</td>\n",
       "      <td>NaN</td>\n",
       "      <td>37500.0</td>\n",
       "    </tr>\n",
       "    <tr>\n",
       "      <th>2</th>\n",
       "      <td>3</td>\n",
       "      <td>Professional developer</td>\n",
       "      <td>Yes, both</td>\n",
       "      <td>United Kingdom</td>\n",
       "      <td>No</td>\n",
       "      <td>Employed full-time</td>\n",
       "      <td>Bachelor's degree</td>\n",
       "      <td>Computer science or software engineering</td>\n",
       "      <td>Less than half the time, but at least one day ...</td>\n",
       "      <td>10,000 or more employees</td>\n",
       "      <td>...</td>\n",
       "      <td>Disagree</td>\n",
       "      <td>Male</td>\n",
       "      <td>A professional degree</td>\n",
       "      <td>White or of European descent</td>\n",
       "      <td>Somewhat agree</td>\n",
       "      <td>Agree</td>\n",
       "      <td>Disagree</td>\n",
       "      <td>Agree</td>\n",
       "      <td>113750.0</td>\n",
       "      <td>NaN</td>\n",
       "    </tr>\n",
       "    <tr>\n",
       "      <th>3</th>\n",
       "      <td>4</td>\n",
       "      <td>Professional non-developer who sometimes write...</td>\n",
       "      <td>Yes, both</td>\n",
       "      <td>United States</td>\n",
       "      <td>No</td>\n",
       "      <td>Employed full-time</td>\n",
       "      <td>Doctoral degree</td>\n",
       "      <td>A non-computer-focused engineering discipline</td>\n",
       "      <td>Less than half the time, but at least one day ...</td>\n",
       "      <td>10,000 or more employees</td>\n",
       "      <td>...</td>\n",
       "      <td>Disagree</td>\n",
       "      <td>Male</td>\n",
       "      <td>A doctoral degree</td>\n",
       "      <td>White or of European descent</td>\n",
       "      <td>Agree</td>\n",
       "      <td>Agree</td>\n",
       "      <td>Somewhat agree</td>\n",
       "      <td>Strongly agree</td>\n",
       "      <td>NaN</td>\n",
       "      <td>NaN</td>\n",
       "    </tr>\n",
       "    <tr>\n",
       "      <th>4</th>\n",
       "      <td>5</td>\n",
       "      <td>Professional developer</td>\n",
       "      <td>Yes, I program as a hobby</td>\n",
       "      <td>Switzerland</td>\n",
       "      <td>No</td>\n",
       "      <td>Employed full-time</td>\n",
       "      <td>Master's degree</td>\n",
       "      <td>Computer science or software engineering</td>\n",
       "      <td>Never</td>\n",
       "      <td>10 to 19 employees</td>\n",
       "      <td>...</td>\n",
       "      <td>NaN</td>\n",
       "      <td>NaN</td>\n",
       "      <td>NaN</td>\n",
       "      <td>NaN</td>\n",
       "      <td>NaN</td>\n",
       "      <td>NaN</td>\n",
       "      <td>NaN</td>\n",
       "      <td>NaN</td>\n",
       "      <td>NaN</td>\n",
       "      <td>NaN</td>\n",
       "    </tr>\n",
       "  </tbody>\n",
       "</table>\n",
       "<p>5 rows × 154 columns</p>\n",
       "</div>"
      ],
      "text/plain": [
       "   Respondent                                       Professional  \\\n",
       "0           1                                            Student   \n",
       "1           2                                            Student   \n",
       "2           3                             Professional developer   \n",
       "3           4  Professional non-developer who sometimes write...   \n",
       "4           5                             Professional developer   \n",
       "\n",
       "                ProgramHobby         Country      University  \\\n",
       "0                  Yes, both   United States              No   \n",
       "1                  Yes, both  United Kingdom  Yes, full-time   \n",
       "2                  Yes, both  United Kingdom              No   \n",
       "3                  Yes, both   United States              No   \n",
       "4  Yes, I program as a hobby     Switzerland              No   \n",
       "\n",
       "                         EmploymentStatus  \\\n",
       "0  Not employed, and not looking for work   \n",
       "1                      Employed part-time   \n",
       "2                      Employed full-time   \n",
       "3                      Employed full-time   \n",
       "4                      Employed full-time   \n",
       "\n",
       "                                     FormalEducation  \\\n",
       "0                                   Secondary school   \n",
       "1  Some college/university study without earning ...   \n",
       "2                                  Bachelor's degree   \n",
       "3                                    Doctoral degree   \n",
       "4                                    Master's degree   \n",
       "\n",
       "                                  MajorUndergrad  \\\n",
       "0                                            NaN   \n",
       "1       Computer science or software engineering   \n",
       "2       Computer science or software engineering   \n",
       "3  A non-computer-focused engineering discipline   \n",
       "4       Computer science or software engineering   \n",
       "\n",
       "                                          HomeRemote  \\\n",
       "0                                                NaN   \n",
       "1              More than half, but not all, the time   \n",
       "2  Less than half the time, but at least one day ...   \n",
       "3  Less than half the time, but at least one day ...   \n",
       "4                                              Never   \n",
       "\n",
       "                CompanySize  ... StackOverflowMakeMoney Gender  \\\n",
       "0                       NaN  ...      Strongly disagree   Male   \n",
       "1        20 to 99 employees  ...      Strongly disagree   Male   \n",
       "2  10,000 or more employees  ...               Disagree   Male   \n",
       "3  10,000 or more employees  ...               Disagree   Male   \n",
       "4        10 to 19 employees  ...                    NaN    NaN   \n",
       "\n",
       "  HighestEducationParents                          Race         SurveyLong  \\\n",
       "0             High school  White or of European descent  Strongly disagree   \n",
       "1       A master's degree  White or of European descent     Somewhat agree   \n",
       "2   A professional degree  White or of European descent     Somewhat agree   \n",
       "3       A doctoral degree  White or of European descent              Agree   \n",
       "4                     NaN                           NaN                NaN   \n",
       "\n",
       "  QuestionsInteresting QuestionsConfusing InterestedAnswers    Salary  \\\n",
       "0       Strongly agree           Disagree    Strongly agree       NaN   \n",
       "1       Somewhat agree           Disagree    Strongly agree       NaN   \n",
       "2                Agree           Disagree             Agree  113750.0   \n",
       "3                Agree     Somewhat agree    Strongly agree       NaN   \n",
       "4                  NaN                NaN               NaN       NaN   \n",
       "\n",
       "   ExpectedSalary  \n",
       "0             NaN  \n",
       "1         37500.0  \n",
       "2             NaN  \n",
       "3             NaN  \n",
       "4             NaN  \n",
       "\n",
       "[5 rows x 154 columns]"
      ]
     },
     "execution_count": 2,
     "metadata": {},
     "output_type": "execute_result"
    }
   ],
   "source": [
    "data = pd.read_csv('survey_results_public.csv')\n",
    "data.head()"
   ]
  },
  {
   "cell_type": "code",
   "execution_count": 3,
   "metadata": {},
   "outputs": [
    {
     "data": {
      "text/html": [
       "<div>\n",
       "<style scoped>\n",
       "    .dataframe tbody tr th:only-of-type {\n",
       "        vertical-align: middle;\n",
       "    }\n",
       "\n",
       "    .dataframe tbody tr th {\n",
       "        vertical-align: top;\n",
       "    }\n",
       "\n",
       "    .dataframe thead th {\n",
       "        text-align: right;\n",
       "    }\n",
       "</style>\n",
       "<table border=\"1\" class=\"dataframe\">\n",
       "  <thead>\n",
       "    <tr style=\"text-align: right;\">\n",
       "      <th></th>\n",
       "      <th>Column</th>\n",
       "      <th>Question</th>\n",
       "    </tr>\n",
       "  </thead>\n",
       "  <tbody>\n",
       "    <tr>\n",
       "      <th>0</th>\n",
       "      <td>Respondent</td>\n",
       "      <td>Respondent ID number</td>\n",
       "    </tr>\n",
       "    <tr>\n",
       "      <th>1</th>\n",
       "      <td>Professional</td>\n",
       "      <td>Which of the following best describes you?</td>\n",
       "    </tr>\n",
       "    <tr>\n",
       "      <th>2</th>\n",
       "      <td>ProgramHobby</td>\n",
       "      <td>Do you program as a hobby or contribute to ope...</td>\n",
       "    </tr>\n",
       "    <tr>\n",
       "      <th>3</th>\n",
       "      <td>Country</td>\n",
       "      <td>In which country do you currently live?</td>\n",
       "    </tr>\n",
       "    <tr>\n",
       "      <th>4</th>\n",
       "      <td>University</td>\n",
       "      <td>Are you currently enrolled in a formal, degree...</td>\n",
       "    </tr>\n",
       "  </tbody>\n",
       "</table>\n",
       "</div>"
      ],
      "text/plain": [
       "         Column                                           Question\n",
       "0    Respondent                               Respondent ID number\n",
       "1  Professional         Which of the following best describes you?\n",
       "2  ProgramHobby  Do you program as a hobby or contribute to ope...\n",
       "3       Country            In which country do you currently live?\n",
       "4    University  Are you currently enrolled in a formal, degree..."
      ]
     },
     "execution_count": 3,
     "metadata": {},
     "output_type": "execute_result"
    }
   ],
   "source": [
    "schema = pd.read_csv('survey_results_schema.csv')\n",
    "schema.head()"
   ]
  },
  {
   "cell_type": "code",
   "execution_count": 4,
   "metadata": {},
   "outputs": [],
   "source": [
    "#考虑全职developer的数据\n",
    "data = data[data['EmploymentStatus']=='Employed full-time']"
   ]
  },
  {
   "cell_type": "code",
   "execution_count": 5,
   "metadata": {},
   "outputs": [],
   "source": [
    "#考虑收入为正的developer的数据\n",
    "data = data[data['Salary']>0]"
   ]
  },
  {
   "cell_type": "markdown",
   "metadata": {},
   "source": [
    "# EDA"
   ]
  },
  {
   "cell_type": "code",
   "execution_count": 6,
   "metadata": {},
   "outputs": [
    {
     "data": {
      "text/html": [
       "<div>\n",
       "<style scoped>\n",
       "    .dataframe tbody tr th:only-of-type {\n",
       "        vertical-align: middle;\n",
       "    }\n",
       "\n",
       "    .dataframe tbody tr th {\n",
       "        vertical-align: top;\n",
       "    }\n",
       "\n",
       "    .dataframe thead th {\n",
       "        text-align: right;\n",
       "    }\n",
       "</style>\n",
       "<table border=\"1\" class=\"dataframe\">\n",
       "  <thead>\n",
       "    <tr style=\"text-align: right;\">\n",
       "      <th></th>\n",
       "      <th>Respondent</th>\n",
       "      <th>CareerSatisfaction</th>\n",
       "      <th>JobSatisfaction</th>\n",
       "      <th>HoursPerWeek</th>\n",
       "      <th>StackOverflowSatisfaction</th>\n",
       "      <th>Salary</th>\n",
       "      <th>ExpectedSalary</th>\n",
       "    </tr>\n",
       "  </thead>\n",
       "  <tbody>\n",
       "    <tr>\n",
       "      <th>count</th>\n",
       "      <td>12438.000000</td>\n",
       "      <td>12409.000000</td>\n",
       "      <td>12400.000000</td>\n",
       "      <td>5472.000000</td>\n",
       "      <td>11590.000000</td>\n",
       "      <td>12438.000000</td>\n",
       "      <td>0.0</td>\n",
       "    </tr>\n",
       "    <tr>\n",
       "      <th>mean</th>\n",
       "      <td>26098.866297</td>\n",
       "      <td>7.493674</td>\n",
       "      <td>6.960081</td>\n",
       "      <td>2.641082</td>\n",
       "      <td>8.512252</td>\n",
       "      <td>57381.580844</td>\n",
       "      <td>NaN</td>\n",
       "    </tr>\n",
       "    <tr>\n",
       "      <th>std</th>\n",
       "      <td>15786.528346</td>\n",
       "      <td>1.736553</td>\n",
       "      <td>2.129550</td>\n",
       "      <td>5.455677</td>\n",
       "      <td>1.324734</td>\n",
       "      <td>39871.944002</td>\n",
       "      <td>NaN</td>\n",
       "    </tr>\n",
       "    <tr>\n",
       "      <th>min</th>\n",
       "      <td>3.000000</td>\n",
       "      <td>0.000000</td>\n",
       "      <td>0.000000</td>\n",
       "      <td>0.000000</td>\n",
       "      <td>0.000000</td>\n",
       "      <td>0.014682</td>\n",
       "      <td>NaN</td>\n",
       "    </tr>\n",
       "    <tr>\n",
       "      <th>25%</th>\n",
       "      <td>12095.500000</td>\n",
       "      <td>7.000000</td>\n",
       "      <td>6.000000</td>\n",
       "      <td>0.000000</td>\n",
       "      <td>8.000000</td>\n",
       "      <td>27956.989247</td>\n",
       "      <td>NaN</td>\n",
       "    </tr>\n",
       "    <tr>\n",
       "      <th>50%</th>\n",
       "      <td>26038.000000</td>\n",
       "      <td>8.000000</td>\n",
       "      <td>7.000000</td>\n",
       "      <td>1.000000</td>\n",
       "      <td>9.000000</td>\n",
       "      <td>51297.025641</td>\n",
       "      <td>NaN</td>\n",
       "    </tr>\n",
       "    <tr>\n",
       "      <th>75%</th>\n",
       "      <td>41320.750000</td>\n",
       "      <td>9.000000</td>\n",
       "      <td>8.000000</td>\n",
       "      <td>2.000000</td>\n",
       "      <td>10.000000</td>\n",
       "      <td>80608.870968</td>\n",
       "      <td>NaN</td>\n",
       "    </tr>\n",
       "    <tr>\n",
       "      <th>max</th>\n",
       "      <td>51391.000000</td>\n",
       "      <td>10.000000</td>\n",
       "      <td>10.000000</td>\n",
       "      <td>40.000000</td>\n",
       "      <td>10.000000</td>\n",
       "      <td>197000.000000</td>\n",
       "      <td>NaN</td>\n",
       "    </tr>\n",
       "  </tbody>\n",
       "</table>\n",
       "</div>"
      ],
      "text/plain": [
       "         Respondent  CareerSatisfaction  JobSatisfaction  HoursPerWeek  \\\n",
       "count  12438.000000        12409.000000     12400.000000   5472.000000   \n",
       "mean   26098.866297            7.493674         6.960081      2.641082   \n",
       "std    15786.528346            1.736553         2.129550      5.455677   \n",
       "min        3.000000            0.000000         0.000000      0.000000   \n",
       "25%    12095.500000            7.000000         6.000000      0.000000   \n",
       "50%    26038.000000            8.000000         7.000000      1.000000   \n",
       "75%    41320.750000            9.000000         8.000000      2.000000   \n",
       "max    51391.000000           10.000000        10.000000     40.000000   \n",
       "\n",
       "       StackOverflowSatisfaction         Salary  ExpectedSalary  \n",
       "count               11590.000000   12438.000000             0.0  \n",
       "mean                    8.512252   57381.580844             NaN  \n",
       "std                     1.324734   39871.944002             NaN  \n",
       "min                     0.000000       0.014682             NaN  \n",
       "25%                     8.000000   27956.989247             NaN  \n",
       "50%                     9.000000   51297.025641             NaN  \n",
       "75%                    10.000000   80608.870968             NaN  \n",
       "max                    10.000000  197000.000000             NaN  "
      ]
     },
     "execution_count": 6,
     "metadata": {},
     "output_type": "execute_result"
    }
   ],
   "source": [
    "data.describe()"
   ]
  },
  {
   "cell_type": "code",
   "execution_count": 7,
   "metadata": {},
   "outputs": [
    {
     "data": {
      "image/png": "[encoded data removed]",
      "text/plain": [
       "<Figure size 432x288 with 2 Axes>"
      ]
     },
     "metadata": {
      "needs_background": "light"
     },
     "output_type": "display_data"
    }
   ],
   "source": [
    "#相关性矩阵\n",
    "sns.heatmap(data.corr(), annot=True, fmt=\".2f\");"
   ]
  },
  {
   "cell_type": "markdown",
   "metadata": {},
   "source": [
    "## Q1:全职开发者中最流行的IDE？"
   ]
  },
  {
   "cell_type": "code",
   "execution_count": 8,
   "metadata": {},
   "outputs": [],
   "source": [
    "#将嵌套的列表拆开\n",
    "def flatten(input_list):\n",
    "    output_list = []\n",
    "    while True:\n",
    "        if input_list == []:\n",
    "            break\n",
    "        for index, i in enumerate(input_list):\n",
    "            if type(i)== list:\n",
    "                input_list = i + input_list[index+1:]\n",
    "                break\n",
    "            else:\n",
    "                output_list.append(i)\n",
    "                input_list.pop(index)\n",
    "                break\n",
    "    return output_list"
   ]
  },
  {
   "cell_type": "code",
   "execution_count": 9,
   "metadata": {},
   "outputs": [],
   "source": [
    "ide_list = [x for x in data['IDE'].dropna().str.split(';')]\n",
    "ide_list = flatten(ide_list)"
   ]
  },
  {
   "cell_type": "code",
   "execution_count": 10,
   "metadata": {},
   "outputs": [],
   "source": [
    "ide_list = [x.strip() for x in ide_list]"
   ]
  },
  {
   "cell_type": "code",
   "execution_count": 11,
   "metadata": {},
   "outputs": [],
   "source": [
    "result_list = []\n",
    "for ide in set(ide_list):\n",
    "    num = ide_list.count(ide)\n",
    "    result_list.append({\n",
    "        'IDE': ide,\n",
    "        'Num': num,\n",
    "        'Percent':num/data['IDE'].dropna().shape[0]\n",
    "    })\n",
    "df_result = pd.DataFrame(result_list, columns=['IDE', 'Num', 'Percent'])\n",
    "#删除nan数据\n",
    "df_result.dropna(inplace=True)\n",
    "\n",
    "df_result.set_index('IDE', inplace=True)"
   ]
  },
  {
   "cell_type": "code",
   "execution_count": 12,
   "metadata": {},
   "outputs": [
    {
     "data": {
      "image/png": "[encoded data removed]",
      "text/plain": [
       "<Figure size 1440x576 with 1 Axes>"
      ]
     },
     "metadata": {
      "needs_background": "light"
     },
     "output_type": "display_data"
    }
   ],
   "source": [
    "#不同IDE的用户占比\n",
    "df_result.sort_values('Percent', inplace=True)\n",
    "\n",
    "df_result['Percent'].plot(kind='barh', figsize=(20,8));"
   ]
  },
  {
   "cell_type": "code",
   "execution_count": 13,
   "metadata": {},
   "outputs": [
    {
     "data": {
      "image/png": "[encoded data removed]",
      "text/plain": [
       "<Figure size 432x720 with 1 Axes>"
      ]
     },
     "metadata": {
      "needs_background": "light"
     },
     "output_type": "display_data"
    }
   ],
   "source": [
    "#seaborn作图，post用\n",
    "f, ax = plt.subplots(figsize=(6, 10))\n",
    "sns.barplot(x=df_result.Percent, y=df_result.index)\n",
    "\n",
    "ax.set(xlim=(0, 1), ylabel=\"\",\n",
    "       xlabel=\"Usage percentage of each IDE\")\n",
    "sns.despine(left=True, bottom=True)"
   ]
  },
  {
   "cell_type": "markdown",
   "metadata": {},
   "source": [
    "- 最流行的IDE是VS，其次是Notepad++, Vim和Sublime text占比相当；"
   ]
  },
  {
   "cell_type": "markdown",
   "metadata": {},
   "source": [
    "### Q:对于编程年限在1年内的开发者而言，最流行的IDE是？"
   ]
  },
  {
   "cell_type": "code",
   "execution_count": 37,
   "metadata": {},
   "outputs": [],
   "source": [
    "#数据子集\n",
    "df = data[data['YearsProgram']=='Less than a year']"
   ]
  },
  {
   "cell_type": "code",
   "execution_count": 39,
   "metadata": {},
   "outputs": [
    {
     "data": {
      "text/html": [
       "<div>\n",
       "<style scoped>\n",
       "    .dataframe tbody tr th:only-of-type {\n",
       "        vertical-align: middle;\n",
       "    }\n",
       "\n",
       "    .dataframe tbody tr th {\n",
       "        vertical-align: top;\n",
       "    }\n",
       "\n",
       "    .dataframe thead th {\n",
       "        text-align: right;\n",
       "    }\n",
       "</style>\n",
       "<table border=\"1\" class=\"dataframe\">\n",
       "  <thead>\n",
       "    <tr style=\"text-align: right;\">\n",
       "      <th></th>\n",
       "      <th>Num</th>\n",
       "      <th>Percent</th>\n",
       "    </tr>\n",
       "    <tr>\n",
       "      <th>IDE</th>\n",
       "      <th></th>\n",
       "      <th></th>\n",
       "    </tr>\n",
       "  </thead>\n",
       "  <tbody>\n",
       "    <tr>\n",
       "      <th>Visual Studio</th>\n",
       "      <td>23</td>\n",
       "      <td>0.319444</td>\n",
       "    </tr>\n",
       "    <tr>\n",
       "      <th>Sublime Text</th>\n",
       "      <td>20</td>\n",
       "      <td>0.277778</td>\n",
       "    </tr>\n",
       "    <tr>\n",
       "      <th>Notepad++</th>\n",
       "      <td>19</td>\n",
       "      <td>0.263889</td>\n",
       "    </tr>\n",
       "    <tr>\n",
       "      <th>Android Studio</th>\n",
       "      <td>12</td>\n",
       "      <td>0.166667</td>\n",
       "    </tr>\n",
       "    <tr>\n",
       "      <th>Visual Studio Code</th>\n",
       "      <td>10</td>\n",
       "      <td>0.138889</td>\n",
       "    </tr>\n",
       "    <tr>\n",
       "      <th>Eclipse</th>\n",
       "      <td>10</td>\n",
       "      <td>0.138889</td>\n",
       "    </tr>\n",
       "    <tr>\n",
       "      <th>Xcode</th>\n",
       "      <td>8</td>\n",
       "      <td>0.111111</td>\n",
       "    </tr>\n",
       "    <tr>\n",
       "      <th>Vim</th>\n",
       "      <td>8</td>\n",
       "      <td>0.111111</td>\n",
       "    </tr>\n",
       "    <tr>\n",
       "      <th>Atom</th>\n",
       "      <td>7</td>\n",
       "      <td>0.097222</td>\n",
       "    </tr>\n",
       "    <tr>\n",
       "      <th>PHPStorm</th>\n",
       "      <td>6</td>\n",
       "      <td>0.083333</td>\n",
       "    </tr>\n",
       "    <tr>\n",
       "      <th>NetBeans</th>\n",
       "      <td>4</td>\n",
       "      <td>0.055556</td>\n",
       "    </tr>\n",
       "    <tr>\n",
       "      <th>IntelliJ</th>\n",
       "      <td>4</td>\n",
       "      <td>0.055556</td>\n",
       "    </tr>\n",
       "    <tr>\n",
       "      <th>RubyMine</th>\n",
       "      <td>3</td>\n",
       "      <td>0.041667</td>\n",
       "    </tr>\n",
       "    <tr>\n",
       "      <th>PyCharm</th>\n",
       "      <td>3</td>\n",
       "      <td>0.041667</td>\n",
       "    </tr>\n",
       "    <tr>\n",
       "      <th>IPython / Jupyter</th>\n",
       "      <td>2</td>\n",
       "      <td>0.027778</td>\n",
       "    </tr>\n",
       "    <tr>\n",
       "      <th>RStudio</th>\n",
       "      <td>2</td>\n",
       "      <td>0.027778</td>\n",
       "    </tr>\n",
       "    <tr>\n",
       "      <th>Emacs</th>\n",
       "      <td>1</td>\n",
       "      <td>0.013889</td>\n",
       "    </tr>\n",
       "    <tr>\n",
       "      <th>Zend</th>\n",
       "      <td>1</td>\n",
       "      <td>0.013889</td>\n",
       "    </tr>\n",
       "  </tbody>\n",
       "</table>\n",
       "</div>"
      ],
      "text/plain": [
       "                    Num   Percent\n",
       "IDE                              \n",
       "Visual Studio        23  0.319444\n",
       "Sublime Text         20  0.277778\n",
       "Notepad++            19  0.263889\n",
       "Android Studio       12  0.166667\n",
       "Visual Studio Code   10  0.138889\n",
       "Eclipse              10  0.138889\n",
       "Xcode                 8  0.111111\n",
       "Vim                   8  0.111111\n",
       "Atom                  7  0.097222\n",
       "PHPStorm              6  0.083333\n",
       "NetBeans              4  0.055556\n",
       "IntelliJ              4  0.055556\n",
       "RubyMine              3  0.041667\n",
       "PyCharm               3  0.041667\n",
       "IPython / Jupyter     2  0.027778\n",
       "RStudio               2  0.027778\n",
       "Emacs                 1  0.013889\n",
       "Zend                  1  0.013889"
      ]
     },
     "execution_count": 39,
     "metadata": {},
     "output_type": "execute_result"
    }
   ],
   "source": [
    "ide_list = [x for x in df['IDE'].dropna().str.split(';')]\n",
    "ide_list = flatten(ide_list)\n",
    "\n",
    "ide_list = [x.strip() for x in ide_list]\n",
    "\n",
    "result_list = []\n",
    "for ide in set(ide_list):\n",
    "    num = ide_list.count(ide)\n",
    "    result_list.append({\n",
    "        'IDE': ide,\n",
    "        'Num': num,\n",
    "        'Percent':num/df.shape[0]\n",
    "    })\n",
    "df_result = pd.DataFrame(result_list, columns=['IDE', 'Num', 'Percent'])\n",
    "#删除nan数据\n",
    "df_result.dropna(inplace=True)\n",
    "df_result.sort_values('Num', ascending=False, inplace=True)\n",
    "\n",
    "df_result.set_index('IDE', inplace=True)\n",
    "\n",
    "df_result"
   ]
  },
  {
   "cell_type": "code",
   "execution_count": 41,
   "metadata": {},
   "outputs": [
    {
     "data": {
      "image/png": "[encoded data removed]",
      "text/plain": [
       "<Figure size 432x720 with 1 Axes>"
      ]
     },
     "metadata": {
      "needs_background": "light"
     },
     "output_type": "display_data"
    }
   ],
   "source": [
    "#seaborn作图，post用\n",
    "f, ax = plt.subplots(figsize=(6, 10))\n",
    "sns.barplot(x=df_result.Percent, y=df_result.index)\n",
    "\n",
    "ax.set(xlim=(0, 1), ylabel=\"\",\n",
    "       xlabel=\"Usage percentage of each IDE of new developers\")\n",
    "sns.despine(left=True, bottom=True)"
   ]
  },
  {
   "cell_type": "markdown",
   "metadata": {},
   "source": [
    "- VS仍然是热门的IDE，入手简单的Sublime text的排名上升，对于新手来说，Sublime是不错的选择。"
   ]
  },
  {
   "cell_type": "markdown",
   "metadata": {},
   "source": [
    "## Q2:不同编程经验的收入差异？"
   ]
  },
  {
   "cell_type": "code",
   "execution_count": 14,
   "metadata": {},
   "outputs": [
    {
     "data": {
      "image/png": "[encoded data removed]",
      "text/plain": [
       "<Figure size 432x288 with 1 Axes>"
      ]
     },
     "metadata": {
      "needs_background": "light"
     },
     "output_type": "display_data"
    }
   ],
   "source": [
    "#不同编程年限水平的分布\n",
    "years = data['YearsProgram'].value_counts().sort_values()/data.shape[0]\n",
    "years.plot.barh();"
   ]
  },
  {
   "cell_type": "code",
   "execution_count": 15,
   "metadata": {},
   "outputs": [],
   "source": [
    "#将编程年限数值化\n",
    "years_program_dict={\n",
    "    'Less than a year':0.5,\n",
    "    '1 to 2 years':1.5,\n",
    "    '2 to 3 years':2.5,\n",
    "    '3 to 4 years':3.5,\n",
    "    '4 to 5 years':4.5,\n",
    "    '5 to 6 years':5.5,\n",
    "    '6 to 7 years':6.5,\n",
    "    '7 to 8 years':7.5,\n",
    "    '8 to 9 years':8.5,\n",
    "    '9 to 10 years':9.5,\n",
    "    '10 to 11 years':10.5,\n",
    "    '11 to 12 years':11.5,\n",
    "    '12 to 13 years':12.5,\n",
    "    '13 to 14 years':13.5,\n",
    "    '14 to 15 years':14.5,\n",
    "    '15 to 16 years':15.5,\n",
    "    '16 to 17 years':16.5,\n",
    "    '17 to 18 years':17.5,\n",
    "    '18 to 19 years':18.5,\n",
    "    '19 to 20 years':19.5,\n",
    "    '20 or more years':20\n",
    "}\n",
    "\n",
    "df = data.dropna(subset=['YearsProgram'])\n",
    "#转换\n",
    "df['YearsProgram'] = df['YearsProgram'].map(years_program_dict)"
   ]
  },
  {
   "cell_type": "code",
   "execution_count": 16,
   "metadata": {},
   "outputs": [
    {
     "data": {
      "text/html": [
       "<div>\n",
       "<style scoped>\n",
       "    .dataframe tbody tr th:only-of-type {\n",
       "        vertical-align: middle;\n",
       "    }\n",
       "\n",
       "    .dataframe tbody tr th {\n",
       "        vertical-align: top;\n",
       "    }\n",
       "\n",
       "    .dataframe thead th {\n",
       "        text-align: right;\n",
       "    }\n",
       "</style>\n",
       "<table border=\"1\" class=\"dataframe\">\n",
       "  <thead>\n",
       "    <tr style=\"text-align: right;\">\n",
       "      <th></th>\n",
       "      <th>Years</th>\n",
       "      <th>Salary</th>\n",
       "      <th>Count</th>\n",
       "      <th>Percent</th>\n",
       "      <th>Cum_percent</th>\n",
       "    </tr>\n",
       "  </thead>\n",
       "  <tbody>\n",
       "    <tr>\n",
       "      <th>0</th>\n",
       "      <td>20.0</td>\n",
       "      <td>79545</td>\n",
       "      <td>2541</td>\n",
       "      <td>0.204474</td>\n",
       "      <td>0.204474</td>\n",
       "    </tr>\n",
       "    <tr>\n",
       "      <th>1</th>\n",
       "      <td>17.5</td>\n",
       "      <td>67270</td>\n",
       "      <td>328</td>\n",
       "      <td>0.026394</td>\n",
       "      <td>0.230868</td>\n",
       "    </tr>\n",
       "    <tr>\n",
       "      <th>2</th>\n",
       "      <td>18.5</td>\n",
       "      <td>65000</td>\n",
       "      <td>188</td>\n",
       "      <td>0.015128</td>\n",
       "      <td>0.245997</td>\n",
       "    </tr>\n",
       "    <tr>\n",
       "      <th>3</th>\n",
       "      <td>19.5</td>\n",
       "      <td>65000</td>\n",
       "      <td>323</td>\n",
       "      <td>0.025992</td>\n",
       "      <td>0.271988</td>\n",
       "    </tr>\n",
       "    <tr>\n",
       "      <th>4</th>\n",
       "      <td>16.5</td>\n",
       "      <td>60108</td>\n",
       "      <td>330</td>\n",
       "      <td>0.026555</td>\n",
       "      <td>0.298543</td>\n",
       "    </tr>\n",
       "    <tr>\n",
       "      <th>5</th>\n",
       "      <td>14.5</td>\n",
       "      <td>59140</td>\n",
       "      <td>639</td>\n",
       "      <td>0.051420</td>\n",
       "      <td>0.349964</td>\n",
       "    </tr>\n",
       "    <tr>\n",
       "      <th>6</th>\n",
       "      <td>15.5</td>\n",
       "      <td>56206</td>\n",
       "      <td>559</td>\n",
       "      <td>0.044983</td>\n",
       "      <td>0.394946</td>\n",
       "    </tr>\n",
       "    <tr>\n",
       "      <th>7</th>\n",
       "      <td>13.5</td>\n",
       "      <td>53030</td>\n",
       "      <td>371</td>\n",
       "      <td>0.029854</td>\n",
       "      <td>0.424801</td>\n",
       "    </tr>\n",
       "    <tr>\n",
       "      <th>8</th>\n",
       "      <td>11.5</td>\n",
       "      <td>51000</td>\n",
       "      <td>435</td>\n",
       "      <td>0.035004</td>\n",
       "      <td>0.459805</td>\n",
       "    </tr>\n",
       "    <tr>\n",
       "      <th>9</th>\n",
       "      <td>12.5</td>\n",
       "      <td>48815</td>\n",
       "      <td>452</td>\n",
       "      <td>0.036372</td>\n",
       "      <td>0.496178</td>\n",
       "    </tr>\n",
       "    <tr>\n",
       "      <th>10</th>\n",
       "      <td>10.5</td>\n",
       "      <td>46321</td>\n",
       "      <td>700</td>\n",
       "      <td>0.056329</td>\n",
       "      <td>0.552507</td>\n",
       "    </tr>\n",
       "    <tr>\n",
       "      <th>11</th>\n",
       "      <td>9.5</td>\n",
       "      <td>43750</td>\n",
       "      <td>926</td>\n",
       "      <td>0.074515</td>\n",
       "      <td>0.627022</td>\n",
       "    </tr>\n",
       "    <tr>\n",
       "      <th>12</th>\n",
       "      <td>8.5</td>\n",
       "      <td>43011</td>\n",
       "      <td>527</td>\n",
       "      <td>0.042408</td>\n",
       "      <td>0.669429</td>\n",
       "    </tr>\n",
       "    <tr>\n",
       "      <th>13</th>\n",
       "      <td>7.5</td>\n",
       "      <td>39259</td>\n",
       "      <td>654</td>\n",
       "      <td>0.052627</td>\n",
       "      <td>0.722057</td>\n",
       "    </tr>\n",
       "    <tr>\n",
       "      <th>14</th>\n",
       "      <td>6.5</td>\n",
       "      <td>37460</td>\n",
       "      <td>680</td>\n",
       "      <td>0.054720</td>\n",
       "      <td>0.776776</td>\n",
       "    </tr>\n",
       "    <tr>\n",
       "      <th>15</th>\n",
       "      <td>3.5</td>\n",
       "      <td>35000</td>\n",
       "      <td>570</td>\n",
       "      <td>0.045868</td>\n",
       "      <td>0.822644</td>\n",
       "    </tr>\n",
       "    <tr>\n",
       "      <th>16</th>\n",
       "      <td>5.5</td>\n",
       "      <td>34973</td>\n",
       "      <td>748</td>\n",
       "      <td>0.060192</td>\n",
       "      <td>0.882836</td>\n",
       "    </tr>\n",
       "    <tr>\n",
       "      <th>17</th>\n",
       "      <td>4.5</td>\n",
       "      <td>32878</td>\n",
       "      <td>749</td>\n",
       "      <td>0.060272</td>\n",
       "      <td>0.943108</td>\n",
       "    </tr>\n",
       "    <tr>\n",
       "      <th>18</th>\n",
       "      <td>1.5</td>\n",
       "      <td>30054</td>\n",
       "      <td>228</td>\n",
       "      <td>0.018347</td>\n",
       "      <td>0.961455</td>\n",
       "    </tr>\n",
       "    <tr>\n",
       "      <th>19</th>\n",
       "      <td>2.5</td>\n",
       "      <td>28788</td>\n",
       "      <td>407</td>\n",
       "      <td>0.032751</td>\n",
       "      <td>0.994206</td>\n",
       "    </tr>\n",
       "    <tr>\n",
       "      <th>20</th>\n",
       "      <td>0.5</td>\n",
       "      <td>14404</td>\n",
       "      <td>72</td>\n",
       "      <td>0.005794</td>\n",
       "      <td>1.000000</td>\n",
       "    </tr>\n",
       "  </tbody>\n",
       "</table>\n",
       "</div>"
      ],
      "text/plain": [
       "    Years  Salary  Count   Percent  Cum_percent\n",
       "0    20.0   79545   2541  0.204474     0.204474\n",
       "1    17.5   67270    328  0.026394     0.230868\n",
       "2    18.5   65000    188  0.015128     0.245997\n",
       "3    19.5   65000    323  0.025992     0.271988\n",
       "4    16.5   60108    330  0.026555     0.298543\n",
       "5    14.5   59140    639  0.051420     0.349964\n",
       "6    15.5   56206    559  0.044983     0.394946\n",
       "7    13.5   53030    371  0.029854     0.424801\n",
       "8    11.5   51000    435  0.035004     0.459805\n",
       "9    12.5   48815    452  0.036372     0.496178\n",
       "10   10.5   46321    700  0.056329     0.552507\n",
       "11    9.5   43750    926  0.074515     0.627022\n",
       "12    8.5   43011    527  0.042408     0.669429\n",
       "13    7.5   39259    654  0.052627     0.722057\n",
       "14    6.5   37460    680  0.054720     0.776776\n",
       "15    3.5   35000    570  0.045868     0.822644\n",
       "16    5.5   34973    748  0.060192     0.882836\n",
       "17    4.5   32878    749  0.060272     0.943108\n",
       "18    1.5   30054    228  0.018347     0.961455\n",
       "19    2.5   28788    407  0.032751     0.994206\n",
       "20    0.5   14404     72  0.005794     1.000000"
      ]
     },
     "execution_count": 16,
     "metadata": {},
     "output_type": "execute_result"
    }
   ],
   "source": [
    "#不同年限的收入中位数\n",
    "years_list = df['YearsProgram'].value_counts().index.tolist()\n",
    "result = []\n",
    "for year in years_list:\n",
    "    df_temp = df[df['YearsProgram']==year]\n",
    "    result.append({\n",
    "        'Years':year,\n",
    "        'Salary':int(np.round(df_temp['Salary'].median(), 0)),\n",
    "        'Count':df_temp.shape[0],\n",
    "        'Percent':df_temp.shape[0]/df.shape[0]\n",
    "    })\n",
    "df_result = pd.DataFrame(result, columns=['Years', 'Salary', 'Count', 'Percent'])\n",
    "df_result.sort_values('Salary', ascending=False, inplace=True)\n",
    "df_result.reset_index(drop=True, inplace=True)\n",
    "\n",
    "#累计求和\n",
    "df_result['Cum_percent'] = df_result['Percent'].cumsum()\n",
    "df_result"
   ]
  },
  {
   "cell_type": "code",
   "execution_count": 17,
   "metadata": {},
   "outputs": [
    {
     "data": {
      "image/png": "[encoded data removed]",
      "text/plain": [
       "<Figure size 432x288 with 1 Axes>"
      ]
     },
     "metadata": {
      "needs_background": "light"
     },
     "output_type": "display_data"
    }
   ],
   "source": [
    "#编程年限和收入中位数的散点图\n",
    "df_result.plot.scatter(x='Years', y='Salary');"
   ]
  },
  {
   "cell_type": "code",
   "execution_count": 18,
   "metadata": {},
   "outputs": [
    {
     "name": "stdout",
     "output_type": "stream",
     "text": [
      "斜率 2475.2364234262445\n",
      "截距 21259.999373629817\n",
      "y=2475.2364234262445*x+21259.999373629817\n"
     ]
    }
   ],
   "source": [
    "#拟合方程\n",
    "from sklearn.linear_model import LinearRegression\n",
    "linreg = LinearRegression()\n",
    "linreg.fit(np.array(df_result['Years']).reshape(-1,1), df_result['Salary'])\n",
    "\n",
    "#方程系数\n",
    "print('斜率',linreg.coef_[0])\n",
    "print('截距', linreg.intercept_)\n",
    "print('y={}*x+{}'.format(linreg.coef_[0], linreg.intercept_))"
   ]
  },
  {
   "cell_type": "code",
   "execution_count": 20,
   "metadata": {},
   "outputs": [
    {
     "data": {
      "image/png": "[encoded data removed]",
      "text/plain": [
       "<Figure size 360x432 with 1 Axes>"
      ]
     },
     "metadata": {
      "needs_background": "light"
     },
     "output_type": "display_data"
    }
   ],
   "source": [
    "#作图，medium展示用\n",
    "f, ax = plt.subplots(figsize=(5, 6))\n",
    "sns.regplot(x='Years', y='Salary', data=df_result)\n",
    "ax.set(xlim=(0, 21), ylabel=\"\",\n",
    "       xlabel=\"ProgramYears VS Salary_median\\n\\ny=2475*x+21260\")\n",
    "sns.despine(left=True, bottom=True)"
   ]
  },
  {
   "cell_type": "markdown",
   "metadata": {},
   "source": [
    "- 总体来说，编程经验越丰富，收入也会更高；\n",
    "- 对于全职的开发者来说，可以预期没过一年，工资可以上涨2500。如果你没有达到这个水平，说明你的工资增长幅度落后平均水平了。"
   ]
  },
  {
   "cell_type": "markdown",
   "metadata": {},
   "source": [
    "## Q3:不同专业对收入的影响？那个专业工资最高？数学专业在什么水平？"
   ]
  },
  {
   "cell_type": "code",
   "execution_count": 42,
   "metadata": {},
   "outputs": [
    {
     "data": {
      "image/png": "[encoded data removed]",
      "text/plain": [
       "<Figure size 432x288 with 1 Axes>"
      ]
     },
     "metadata": {
      "needs_background": "light"
     },
     "output_type": "display_data"
    }
   ],
   "source": [
    "#不同专业的分布\n",
    "major = data['MajorUndergrad'].value_counts().sort_values()/data.shape[0]\n",
    "major.plot.barh();"
   ]
  },
  {
   "cell_type": "code",
   "execution_count": 43,
   "metadata": {},
   "outputs": [
    {
     "data": {
      "text/html": [
       "<div>\n",
       "<style scoped>\n",
       "    .dataframe tbody tr th:only-of-type {\n",
       "        vertical-align: middle;\n",
       "    }\n",
       "\n",
       "    .dataframe tbody tr th {\n",
       "        vertical-align: top;\n",
       "    }\n",
       "\n",
       "    .dataframe thead th {\n",
       "        text-align: right;\n",
       "    }\n",
       "</style>\n",
       "<table border=\"1\" class=\"dataframe\">\n",
       "  <thead>\n",
       "    <tr style=\"text-align: right;\">\n",
       "      <th></th>\n",
       "      <th>Salary</th>\n",
       "      <th>Count</th>\n",
       "      <th>Percent</th>\n",
       "      <th>Cum_percent</th>\n",
       "    </tr>\n",
       "    <tr>\n",
       "      <th>Major</th>\n",
       "      <th></th>\n",
       "      <th></th>\n",
       "      <th></th>\n",
       "      <th></th>\n",
       "    </tr>\n",
       "  </thead>\n",
       "  <tbody>\n",
       "    <tr>\n",
       "      <th>Psychology</th>\n",
       "      <td>75269</td>\n",
       "      <td>53</td>\n",
       "      <td>0.004564</td>\n",
       "      <td>0.004564</td>\n",
       "    </tr>\n",
       "    <tr>\n",
       "      <th>Management information systems</th>\n",
       "      <td>70000</td>\n",
       "      <td>175</td>\n",
       "      <td>0.015069</td>\n",
       "      <td>0.019633</td>\n",
       "    </tr>\n",
       "    <tr>\n",
       "      <th>A social science</th>\n",
       "      <td>69892</td>\n",
       "      <td>161</td>\n",
       "      <td>0.013864</td>\n",
       "      <td>0.033497</td>\n",
       "    </tr>\n",
       "    <tr>\n",
       "      <th>Fine arts or performing arts</th>\n",
       "      <td>68182</td>\n",
       "      <td>191</td>\n",
       "      <td>0.016447</td>\n",
       "      <td>0.049944</td>\n",
       "    </tr>\n",
       "    <tr>\n",
       "      <th>A business discipline</th>\n",
       "      <td>64516</td>\n",
       "      <td>217</td>\n",
       "      <td>0.018686</td>\n",
       "      <td>0.068630</td>\n",
       "    </tr>\n",
       "    <tr>\n",
       "      <th>A humanities discipline</th>\n",
       "      <td>61000</td>\n",
       "      <td>273</td>\n",
       "      <td>0.023508</td>\n",
       "      <td>0.092138</td>\n",
       "    </tr>\n",
       "    <tr>\n",
       "      <th>Mathematics or statistics</th>\n",
       "      <td>60108</td>\n",
       "      <td>434</td>\n",
       "      <td>0.037372</td>\n",
       "      <td>0.129510</td>\n",
       "    </tr>\n",
       "    <tr>\n",
       "      <th>A natural science</th>\n",
       "      <td>60000</td>\n",
       "      <td>482</td>\n",
       "      <td>0.041505</td>\n",
       "      <td>0.171015</td>\n",
       "    </tr>\n",
       "    <tr>\n",
       "      <th>I never declared a major</th>\n",
       "      <td>57015</td>\n",
       "      <td>156</td>\n",
       "      <td>0.013433</td>\n",
       "      <td>0.184448</td>\n",
       "    </tr>\n",
       "    <tr>\n",
       "      <th>A non-computer-focused engineering discipline</th>\n",
       "      <td>56250</td>\n",
       "      <td>417</td>\n",
       "      <td>0.035908</td>\n",
       "      <td>0.220356</td>\n",
       "    </tr>\n",
       "    <tr>\n",
       "      <th>Something else</th>\n",
       "      <td>52688</td>\n",
       "      <td>273</td>\n",
       "      <td>0.023508</td>\n",
       "      <td>0.243865</td>\n",
       "    </tr>\n",
       "    <tr>\n",
       "      <th>Computer science or software engineering</th>\n",
       "      <td>52360</td>\n",
       "      <td>6264</td>\n",
       "      <td>0.539396</td>\n",
       "      <td>0.783260</td>\n",
       "    </tr>\n",
       "    <tr>\n",
       "      <th>A health science</th>\n",
       "      <td>51894</td>\n",
       "      <td>21</td>\n",
       "      <td>0.001808</td>\n",
       "      <td>0.785068</td>\n",
       "    </tr>\n",
       "    <tr>\n",
       "      <th>Computer engineering or electrical/electronics engineering</th>\n",
       "      <td>50451</td>\n",
       "      <td>1063</td>\n",
       "      <td>0.091535</td>\n",
       "      <td>0.876604</td>\n",
       "    </tr>\n",
       "    <tr>\n",
       "      <th>Information technology, networking, or system administration</th>\n",
       "      <td>38710</td>\n",
       "      <td>466</td>\n",
       "      <td>0.040127</td>\n",
       "      <td>0.916731</td>\n",
       "    </tr>\n",
       "    <tr>\n",
       "      <th>Computer programming or Web development</th>\n",
       "      <td>38217</td>\n",
       "      <td>967</td>\n",
       "      <td>0.083269</td>\n",
       "      <td>1.000000</td>\n",
       "    </tr>\n",
       "  </tbody>\n",
       "</table>\n",
       "</div>"
      ],
      "text/plain": [
       "                                                    Salary  Count   Percent  \\\n",
       "Major                                                                         \n",
       "Psychology                                           75269     53  0.004564   \n",
       "Management information systems                       70000    175  0.015069   \n",
       "A social science                                     69892    161  0.013864   \n",
       "Fine arts or performing arts                         68182    191  0.016447   \n",
       "A business discipline                                64516    217  0.018686   \n",
       "A humanities discipline                              61000    273  0.023508   \n",
       "Mathematics or statistics                            60108    434  0.037372   \n",
       "A natural science                                    60000    482  0.041505   \n",
       "I never declared a major                             57015    156  0.013433   \n",
       "A non-computer-focused engineering discipline        56250    417  0.035908   \n",
       "Something else                                       52688    273  0.023508   \n",
       "Computer science or software engineering             52360   6264  0.539396   \n",
       "A health science                                     51894     21  0.001808   \n",
       "Computer engineering or electrical/electronics ...   50451   1063  0.091535   \n",
       "Information technology, networking, or system a...   38710    466  0.040127   \n",
       "Computer programming or Web development              38217    967  0.083269   \n",
       "\n",
       "                                                    Cum_percent  \n",
       "Major                                                            \n",
       "Psychology                                             0.004564  \n",
       "Management information systems                         0.019633  \n",
       "A social science                                       0.033497  \n",
       "Fine arts or performing arts                           0.049944  \n",
       "A business discipline                                  0.068630  \n",
       "A humanities discipline                                0.092138  \n",
       "Mathematics or statistics                              0.129510  \n",
       "A natural science                                      0.171015  \n",
       "I never declared a major                               0.184448  \n",
       "A non-computer-focused engineering discipline          0.220356  \n",
       "Something else                                         0.243865  \n",
       "Computer science or software engineering               0.783260  \n",
       "A health science                                       0.785068  \n",
       "Computer engineering or electrical/electronics ...     0.876604  \n",
       "Information technology, networking, or system a...     0.916731  \n",
       "Computer programming or Web development                1.000000  "
      ]
     },
     "execution_count": 43,
     "metadata": {},
     "output_type": "execute_result"
    }
   ],
   "source": [
    "#考虑全职的数据\n",
    "df = data.dropna(subset=['MajorUndergrad'])\n",
    "\n",
    "major_list = df['MajorUndergrad'].value_counts().index.tolist()\n",
    "result = []\n",
    "for major in major_list:\n",
    "    df_temp = df[df['MajorUndergrad']==major]\n",
    "    result.append({\n",
    "        'Major':major,\n",
    "        'Salary':int(np.round(df_temp['Salary'].median(), 0)),\n",
    "        'Count':df_temp.shape[0],\n",
    "        'Percent':df_temp.shape[0]/df.shape[0]\n",
    "    })\n",
    "df_result = pd.DataFrame(result, columns=['Major', 'Salary', 'Count', 'Percent'])\n",
    "df_result.sort_values('Salary', ascending=False, inplace=True)\n",
    "df_result.set_index('Major', drop=True, inplace=True)\n",
    "\n",
    "#累计求和\n",
    "df_result['Cum_percent'] = df_result['Percent'].cumsum()\n",
    "df_result"
   ]
  },
  {
   "cell_type": "code",
   "execution_count": 44,
   "metadata": {},
   "outputs": [
    {
     "data": {
      "image/png": "[encoded data removed]",
      "text/plain": [
       "<Figure size 432x720 with 1 Axes>"
      ]
     },
     "metadata": {
      "needs_background": "light"
     },
     "output_type": "display_data"
    }
   ],
   "source": [
    "#seaborn作图，medium用\n",
    "f, ax = plt.subplots(figsize=(6, 10))\n",
    "sns.barplot(x=df_result.Salary, y=df_result.index)\n",
    "\n",
    "ax.set(xlim=(0, 100000), ylabel=\"\",\n",
    "       xlabel=\"Major VS Salary_median\")\n",
    "sns.despine(left=True, bottom=True)"
   ]
  },
  {
   "cell_type": "markdown",
   "metadata": {},
   "source": [
    "- Psychology专业的全职人员的平均中位数超过75000，位列榜首；\n",
    "- Mathematics or statistics\t专业的的工资中位数水平排在第七，为60108。只有9%的人比数学专业的收入水平更高。"
   ]
  },
  {
   "cell_type": "markdown",
   "metadata": {},
   "source": [
    "## Q4:不同教育水平对收入的影响？Bachelor、Master和Doctoral之间的差异？"
   ]
  },
  {
   "cell_type": "code",
   "execution_count": 24,
   "metadata": {},
   "outputs": [
    {
     "data": {
      "image/png": "[encoded data removed]",
      "text/plain": [
       "<Figure size 432x288 with 1 Axes>"
      ]
     },
     "metadata": {
      "needs_background": "light"
     },
     "output_type": "display_data"
    }
   ],
   "source": [
    "#不同教育水平的分布\n",
    "education = data['FormalEducation'].value_counts().sort_values()/data.shape[0]\n",
    "education.plot.barh();"
   ]
  },
  {
   "cell_type": "code",
   "execution_count": 25,
   "metadata": {},
   "outputs": [
    {
     "data": {
      "text/html": [
       "<div>\n",
       "<style scoped>\n",
       "    .dataframe tbody tr th:only-of-type {\n",
       "        vertical-align: middle;\n",
       "    }\n",
       "\n",
       "    .dataframe tbody tr th {\n",
       "        vertical-align: top;\n",
       "    }\n",
       "\n",
       "    .dataframe thead th {\n",
       "        text-align: right;\n",
       "    }\n",
       "</style>\n",
       "<table border=\"1\" class=\"dataframe\">\n",
       "  <thead>\n",
       "    <tr style=\"text-align: right;\">\n",
       "      <th></th>\n",
       "      <th>Salary</th>\n",
       "      <th>Count</th>\n",
       "      <th>Percent</th>\n",
       "      <th>Cum_percent</th>\n",
       "    </tr>\n",
       "    <tr>\n",
       "      <th>Education</th>\n",
       "      <th></th>\n",
       "      <th></th>\n",
       "      <th></th>\n",
       "      <th></th>\n",
       "    </tr>\n",
       "  </thead>\n",
       "  <tbody>\n",
       "    <tr>\n",
       "      <th>Doctoral degree</th>\n",
       "      <td>65115</td>\n",
       "      <td>288</td>\n",
       "      <td>0.023155</td>\n",
       "      <td>0.023155</td>\n",
       "    </tr>\n",
       "    <tr>\n",
       "      <th>Primary/elementary school</th>\n",
       "      <td>63500</td>\n",
       "      <td>51</td>\n",
       "      <td>0.004100</td>\n",
       "      <td>0.027255</td>\n",
       "    </tr>\n",
       "    <tr>\n",
       "      <th>Bachelor's degree</th>\n",
       "      <td>53750</td>\n",
       "      <td>6230</td>\n",
       "      <td>0.500884</td>\n",
       "      <td>0.528140</td>\n",
       "    </tr>\n",
       "    <tr>\n",
       "      <th>Master's degree</th>\n",
       "      <td>50538</td>\n",
       "      <td>3031</td>\n",
       "      <td>0.243689</td>\n",
       "      <td>0.771828</td>\n",
       "    </tr>\n",
       "    <tr>\n",
       "      <th>Some college/university study without earning a bachelor's degree</th>\n",
       "      <td>50000</td>\n",
       "      <td>1929</td>\n",
       "      <td>0.155089</td>\n",
       "      <td>0.926918</td>\n",
       "    </tr>\n",
       "    <tr>\n",
       "      <th>Secondary school</th>\n",
       "      <td>38710</td>\n",
       "      <td>667</td>\n",
       "      <td>0.053626</td>\n",
       "      <td>0.980543</td>\n",
       "    </tr>\n",
       "    <tr>\n",
       "      <th>I never completed any formal education</th>\n",
       "      <td>37757</td>\n",
       "      <td>60</td>\n",
       "      <td>0.004824</td>\n",
       "      <td>0.985367</td>\n",
       "    </tr>\n",
       "    <tr>\n",
       "      <th>I prefer not to answer</th>\n",
       "      <td>37634</td>\n",
       "      <td>41</td>\n",
       "      <td>0.003296</td>\n",
       "      <td>0.988664</td>\n",
       "    </tr>\n",
       "    <tr>\n",
       "      <th>Professional degree</th>\n",
       "      <td>32258</td>\n",
       "      <td>141</td>\n",
       "      <td>0.011336</td>\n",
       "      <td>1.000000</td>\n",
       "    </tr>\n",
       "  </tbody>\n",
       "</table>\n",
       "</div>"
      ],
      "text/plain": [
       "                                                    Salary  Count   Percent  \\\n",
       "Education                                                                     \n",
       "Doctoral degree                                      65115    288  0.023155   \n",
       "Primary/elementary school                            63500     51  0.004100   \n",
       "Bachelor's degree                                    53750   6230  0.500884   \n",
       "Master's degree                                      50538   3031  0.243689   \n",
       "Some college/university study without earning a...   50000   1929  0.155089   \n",
       "Secondary school                                     38710    667  0.053626   \n",
       "I never completed any formal education               37757     60  0.004824   \n",
       "I prefer not to answer                               37634     41  0.003296   \n",
       "Professional degree                                  32258    141  0.011336   \n",
       "\n",
       "                                                    Cum_percent  \n",
       "Education                                                        \n",
       "Doctoral degree                                        0.023155  \n",
       "Primary/elementary school                              0.027255  \n",
       "Bachelor's degree                                      0.528140  \n",
       "Master's degree                                        0.771828  \n",
       "Some college/university study without earning a...     0.926918  \n",
       "Secondary school                                       0.980543  \n",
       "I never completed any formal education                 0.985367  \n",
       "I prefer not to answer                                 0.988664  \n",
       "Professional degree                                    1.000000  "
      ]
     },
     "execution_count": 25,
     "metadata": {},
     "output_type": "execute_result"
    }
   ],
   "source": [
    "#考虑全职的数据\n",
    "df = data.dropna(subset=['FormalEducation'])\n",
    "\n",
    "education_list = df['FormalEducation'].value_counts().index.tolist()\n",
    "result = []\n",
    "for education in education_list:\n",
    "    df_temp = df[df['FormalEducation']==education]\n",
    "    result.append({\n",
    "        'Education':education,\n",
    "        'Salary':int(np.round(df_temp['Salary'].median(), 0)),\n",
    "        'Count':df_temp.shape[0],\n",
    "        'Percent':df_temp.shape[0]/df.shape[0]\n",
    "    })\n",
    "df_result = pd.DataFrame(result, columns=['Education', 'Salary', 'Count', 'Percent'])\n",
    "df_result.sort_values('Salary', ascending=False, inplace=True)\n",
    "df_result.set_index('Education', drop=True, inplace=True)\n",
    "\n",
    "#累计求和\n",
    "df_result['Cum_percent'] = df_result['Percent'].cumsum()\n",
    "df_result"
   ]
  },
  {
   "cell_type": "code",
   "execution_count": 26,
   "metadata": {},
   "outputs": [
    {
     "data": {
      "image/png": "[encoded data removed]",
      "text/plain": [
       "<Figure size 432x576 with 1 Axes>"
      ]
     },
     "metadata": {
      "needs_background": "light"
     },
     "output_type": "display_data"
    }
   ],
   "source": [
    "#seaborn作图，medium用\n",
    "f, ax = plt.subplots(figsize=(6, 8))\n",
    "sns.barplot(x=df_result.Salary, y=df_result.index)\n",
    "\n",
    "ax.set(xlim=(0, 100000), ylabel=\"\",\n",
    "       xlabel=\"Education VS Salary_median\")\n",
    "sns.despine(left=True, bottom=True)"
   ]
  },
  {
   "cell_type": "markdown",
   "metadata": {},
   "source": [
    "- 学历高，并不一定收入就高。但从图上看，高学历的人不太会获得一个相对较低的收入。\n",
    "- 从中位数来看，Bachelor和Master的水平相当，而Doctoral则高出一大截。短期来看，从Bachelor到Master，工资水平没有明显的增长，但长期来看，达到Doctoral就会有大幅提升。"
   ]
  },
  {
   "cell_type": "markdown",
   "metadata": {},
   "source": [
    "# Modeling"
   ]
  },
  {
   "cell_type": "code",
   "execution_count": 27,
   "metadata": {},
   "outputs": [],
   "source": [
    "def clean_data(df):\n",
    "    # Drop rows with missing salary values\n",
    "    df = df.dropna(subset=['Salary'], axis=0)\n",
    "    y = df['Salary']\n",
    "    \n",
    "    #Drop respondent and expected salary columns\n",
    "    df = df.drop(['Respondent', 'ExpectedSalary', 'Salary'], axis=1)\n",
    "    \n",
    "    # Fill numeric columns with the mean\n",
    "    num_vars = df.select_dtypes(include=['float', 'int']).columns\n",
    "    for col in num_vars:\n",
    "        df[col].fillna((df[col].mean()), inplace=True)\n",
    "        \n",
    "    # Dummy the categorical variables\n",
    "    cat_vars = df.select_dtypes(include=['object']).copy().columns\n",
    "    for var in  cat_vars:\n",
    "        # for each cat add dummy var, drop original column\n",
    "        df = pd.concat([df.drop(var, axis=1), pd.get_dummies(df[var], prefix=var, prefix_sep='_', drop_first=True)], axis=1)\n",
    "    \n",
    "    X = df\n",
    "    return X, y\n",
    "    \n",
    "#Use the function to create X and y\n",
    "X, y = clean_data(data)    "
   ]
  },
  {
   "cell_type": "code",
   "execution_count": 28,
   "metadata": {},
   "outputs": [],
   "source": [
    "#衡量工具\n",
    "def rmspe(y, yhat):\n",
    "    return np.sqrt(np.mean((yhat/y-1) ** 2))\n",
    "\n",
    "def rmspe_xg(yhat, y):\n",
    "    y = y.get_label()\n",
    "    return \"rmspe\", rmspe(y, yhat)"
   ]
  },
  {
   "cell_type": "code",
   "execution_count": 29,
   "metadata": {},
   "outputs": [],
   "source": [
    "#数据划分\n",
    "from sklearn.model_selection import train_test_split\n",
    "\n",
    "X_train, X_test, y_train, y_test = train_test_split(X, y, test_size=0.2)"
   ]
  },
  {
   "cell_type": "markdown",
   "metadata": {},
   "source": [
    "## Base Model"
   ]
  },
  {
   "cell_type": "code",
   "execution_count": 30,
   "metadata": {},
   "outputs": [
    {
     "name": "stdout",
     "output_type": "stream",
     "text": [
      "RMSPE: 7510.5753\n",
      "本次训练共计耗时：139秒\n",
      "模型保存完成，保存名称：RandomForest\n"
     ]
    }
   ],
   "source": [
    "#随机森林\n",
    "from sklearn.ensemble import RandomForestRegressor\n",
    "\n",
    "#开始时间\n",
    "s_time = dt.datetime.now()\n",
    "\n",
    "#训练模型\n",
    "rfr = RandomForestRegressor(n_estimators = 15)\n",
    "rfr.fit(X_train, y_train)\n",
    "\n",
    "#验证\n",
    "y_pred = rfr.predict(X_test)\n",
    "error = rmspe(y_test, y_pred)\n",
    "print('RMSPE: {:.4f}'.format(error))\n",
    "\n",
    "#结束时间\n",
    "e_time = dt.datetime.now()\n",
    "print('本次训练共计耗时：{}秒'.format((e_time-s_time).seconds))\n",
    "\n",
    "#保存模型\n",
    "joblib.dump(rfr, 'saved_model/RandomForest.pkl')\n",
    "print('模型保存完成，保存名称：{}'.format('RandomForest'))"
   ]
  },
  {
   "cell_type": "code",
   "execution_count": 31,
   "metadata": {},
   "outputs": [
    {
     "data": {
      "image/png": "[encoded data removed]",
      "text/plain": [
       "<Figure size 432x288 with 1 Axes>"
      ]
     },
     "metadata": {
      "needs_background": "light"
     },
     "output_type": "display_data"
    }
   ],
   "source": [
    "# 最重要的10个特征\n",
    "feat_importances = pd.Series(rfr.feature_importances_, index=X_train.columns)\n",
    "feat_importances.nlargest(10).sort_values(ascending = True).plot(kind='barh')\n",
    "plt.xlabel('importance')\n",
    "plt.title('Feature Importance');"
   ]
  },
  {
   "cell_type": "markdown",
   "metadata": {},
   "source": [
    "## XGB Model"
   ]
  },
  {
   "cell_type": "code",
   "execution_count": 33,
   "metadata": {},
   "outputs": [
    {
     "name": "stdout",
     "output_type": "stream",
     "text": [
      "RMSPE: 6419.8727\n",
      "本次训练共计耗时：4012秒\n",
      "模型保存完成，保存名称：xgb\n"
     ]
    }
   ],
   "source": [
    "import xgboost as xgb\n",
    "\n",
    "#开始时间\n",
    "s_time = dt.datetime.now()\n",
    "\n",
    "\n",
    "params = {\"objective\": \"reg:linear\", # 默认值，\n",
    "          \"booster\" : \"gbtree\",      # 需要使用的上升模型。可选gbtree（树）或gblinear（线性函数），默认为gbtree。\n",
    "          \"eta\": 0.1,               # 收缩步长，即学习速率，取值范围是，默认为０．３。在更新叶子节点的时候，权重乘以ｅｔａ，以避免在更新过程中的过拟合。\n",
    "          \"max_depth\": 10,           # 每棵树的最大深度，取值范围，默认为６。树越深，越容易过拟合。\n",
    "          \"subsample\": 0.9,          # 训练的实例样本占整体实例样本的比例，取值范围是（０，１］，默认为１。值为0.5时意味着Xgboost随机抽取一半的数据实例来生成树模型，这样能防止过拟合。\n",
    "          \"colsample_bytree\": 0.7,   # 在构建每棵树时，列（特征）的子样本比，参数值的范围是（０，１］。\n",
    "          \"silent\": 1,               # silent mode。\n",
    "          \"seed\": 10                 # 随机数种子，为确保数据的可重现性，默认为０。\n",
    "          }\n",
    "#训练次数\n",
    "num_boost_round = 4000\n",
    "\n",
    "dtrain = xgb.DMatrix(X_train, y_train)\n",
    "dtest = xgb.DMatrix(X_test, y_test)\n",
    "watchlist = [(dtrain, 'train'), (dtest, 'test')]\n",
    "\n",
    "#训练模型\n",
    "model = xgb.train(params, dtrain, num_boost_round, evals=watchlist, \\\n",
    "  early_stopping_rounds= 100, feval=rmspe_xg, verbose_eval=True)\n",
    "\n",
    "#验证\n",
    "y_pred = model.predict(dtest)\n",
    "error = rmspe(y_test, y_pred)\n",
    "print('RMSPE: {:.4f}'.format(error))\n",
    "\n",
    "#结束时间\n",
    "e_time = dt.datetime.now()\n",
    "print('本次训练共计耗时：{}秒'.format((e_time-s_time).seconds))\n",
    "\n",
    "#保存模型\n",
    "joblib.dump(model, 'saved_model/xgb.pkl')\n",
    "print('模型保存完成，保存名称：{}'.format('xgb'))"
   ]
  },
  {
   "cell_type": "code",
   "execution_count": null,
   "metadata": {},
   "outputs": [],
   "source": []
  }
 ],
 "metadata": {
  "kernelspec": {
   "display_name": "Python 3",
   "language": "python",
   "name": "python3"
  },
  "language_info": {
   "codemirror_mode": {
    "name": "ipython",
    "version": 3
   },
   "file_extension": ".py",
   "mimetype": "text/x-python",
   "name": "python",
   "nbconvert_exporter": "python",
   "pygments_lexer": "ipython3",
   "version": "3.7.3"
  },
  "toc": {
   "base_numbering": 1,
   "nav_menu": {},
   "number_sections": true,
   "sideBar": true,
   "skip_h1_title": false,
   "title_cell": "Table of Contents",
   "title_sidebar": "Contents",
   "toc_cell": false,
   "toc_position": {
    "height": "calc(100% - 180px)",
    "left": "10px",
    "top": "150px",
    "width": "273.188px"
   },
   "toc_section_display": true,
   "toc_window_display": true
  },
  "varInspector": {
   "cols": {
    "lenName": 16,
    "lenType": 16,
    "lenVar": 40
   },
   "kernels_config": {
    "python": {
     "delete_cmd_postfix": "",
     "delete_cmd_prefix": "del ",
     "library": "var_list.py",
     "varRefreshCmd": "print(var_dic_list())"
    },
    "r": {
     "delete_cmd_postfix": ") ",
     "delete_cmd_prefix": "rm(",
     "library": "var_list.r",
     "varRefreshCmd": "cat(var_dic_list()) "
    }
   },
   "types_to_exclude": [
    "module",
    "function",
    "builtin_function_or_method",
    "instance",
    "_Feature"
   ],
   "window_display": false
  }
 },
 "nbformat": 4,
 "nbformat_minor": 2
}
